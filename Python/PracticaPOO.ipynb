{
 "cells": [
  {
   "cell_type": "markdown",
   "id": "f3cfa3a3-c388-4620-84b8-116efcec243c",
   "metadata": {},
   "source": [
    "#### Objetos y clases"
   ]
  },
  {
   "cell_type": "code",
   "execution_count": null,
   "id": "48aa5da2-4df0-4152-89fc-ee010cb584b8",
   "metadata": {},
   "outputs": [],
   "source": [
    "class Galleta:\n",
    "    chocolate = False\n",
    "\n",
    "    def saludar():\n",
    "        print(\"Hola, soy una galleta muy sabrosa\")\n",
    "\n",
    "galleta = Galleta()\n",
    "galleta.saludar()"
   ]
  },
  {
   "cell_type": "code",
   "execution_count": null,
   "id": "3227c560-1cc3-4fd0-910d-613a2a39defd",
   "metadata": {},
   "outputs": [],
   "source": [
    "galleta1 = Galleta() #creamos instancia de Galleta"
   ]
  },
  {
   "cell_type": "code",
   "execution_count": null,
   "id": "57133646-6804-44a4-8111-f9212aef8e3e",
   "metadata": {},
   "outputs": [],
   "source": [
    "if galleta.chocolate:\n",
    "    print(\"La galleta tiene chocolate\")\n",
    "else:\n",
    "    print(\"La galleta no tiene chocolate\")\n",
    "    "
   ]
  },
  {
   "cell_type": "code",
   "execution_count": null,
   "id": "b9c7bf60-5211-4294-ad7d-fdbb91724021",
   "metadata": {},
   "outputs": [],
   "source": [
    "#imprimimos cal es el valor por defecto del atributo de CLASE\n",
    "print(Galleta.chocolate)\n",
    "print(Galleta.vainilla)"
   ]
  },
  {
   "cell_type": "code",
   "execution_count": null,
   "id": "8ebfccce-e7de-4917-92d5-9c5f73e895f7",
   "metadata": {},
   "outputs": [],
   "source": [
    "#imprimimos el valor del atributo del OBJETO creado\n",
    "print(galleta1.vainilla)"
   ]
  },
  {
   "cell_type": "code",
   "execution_count": null,
   "id": "fea203d2-73c9-4ff4-bb2f-72775137a028",
   "metadata": {},
   "outputs": [],
   "source": [
    "#Cambiamos el valor por defecto del atributo chocolate de la clase Galleta\n",
    "Galleta.chocolate = True\n",
    "#a partir de aqui, todas las nuevos objetos de Galleta tendran chocolate == true"
   ]
  },
  {
   "cell_type": "code",
   "execution_count": null,
   "id": "79682b11-d02b-42ad-ad4f-6e076c71a11f",
   "metadata": {},
   "outputs": [],
   "source": [
    "galleta2 = Galleta()"
   ]
  },
  {
   "cell_type": "code",
   "execution_count": null,
   "id": "73bae539-8133-436f-a91d-356f6af56a52",
   "metadata": {},
   "outputs": [],
   "source": [
    "print(Galleta.chocolate)\n",
    "print(Galleta.vainilla)"
   ]
  },
  {
   "cell_type": "code",
   "execution_count": null,
   "id": "8a3d5048-2446-49e9-8073-af28dc15f973",
   "metadata": {},
   "outputs": [],
   "source": [
    "#Cambiamos el valor de vainilla del OBJETO galleta2\n",
    "galleta2.vainilla = False\n",
    "print(galleta2.vainilla) #el valor del atributo vainilla asociado al OBJETO galleta2 sera False\n",
    "print(Galleta.vainilla) #mientras que el valor del atributo de la CLASE Galleta sigue siendo True"
   ]
  },
  {
   "cell_type": "markdown",
   "id": "46a1fe40-a944-4a5e-ae15-aa94818bdff9",
   "metadata": {},
   "source": [
    "#### Argumento self"
   ]
  },
  {
   "cell_type": "code",
   "execution_count": null,
   "id": "7f0822b2-059f-4354-863b-0b99a20286c5",
   "metadata": {},
   "outputs": [],
   "source": [
    "class Galleta:\n",
    "    chocolate = False\n",
    "\n",
    "    def saludar():\n",
    "        print(\"Hola, soy una galleta muy sabrosa\")\n",
    "\n",
    "galleta = Galleta()"
   ]
  },
  {
   "cell_type": "code",
   "execution_count": null,
   "id": "8eb95df1-39d7-48f3-93f1-96251c46562e",
   "metadata": {},
   "outputs": [],
   "source": [
    "#llamamos a un metodo desde la instancia\n",
    "galleta.saludar()\n",
    "\n",
    "#Cuando se ejecuta un método desde un objeto (que no desde una clase), se envía un primer argumento implícito que hace referencia al propio objeto\n",
    "#al no haber definido un parametro en el metodo saludar, si se llama desde un objeto, se espera un argumento implicito el cual no esta definido"
   ]
  },
  {
   "cell_type": "code",
   "execution_count": null,
   "id": "09bf3555-592f-4d41-85cf-038932be1ca9",
   "metadata": {},
   "outputs": [],
   "source": [
    "#Nos indica que el método saludar() definido tiene 0 argumentos, pero al llamarlo desde una instancia, se está pasando uno de manera implicita"
   ]
  },
  {
   "cell_type": "code",
   "execution_count": null,
   "id": "f3d207ec-196f-4128-8e71-4df12d919b18",
   "metadata": {},
   "outputs": [],
   "source": [
    "#Si Llamamos a un metodo desde la clase que no desde el objeto, este error no ocurre\n",
    "Galleta.saludar()"
   ]
  },
  {
   "cell_type": "code",
   "execution_count": null,
   "id": "c0016926-7ca9-49a8-b148-cd11b21f9f2f",
   "metadata": {},
   "outputs": [],
   "source": [
    "class Galleta:\n",
    "    chocolate = False\n",
    "\n",
    "    def saludar(soy_el_propio_objeto):\n",
    "        print(\"Hola, soy una galleta muy sabrosa\")\n",
    "        print(soy_el_propio_objeto) #referencia al objeto\n",
    "\n",
    "galleta = Galleta()\n",
    "galleta.saludar()\n",
    "print(galleta) #referencia al objeto"
   ]
  },
  {
   "cell_type": "code",
   "execution_count": null,
   "id": "cc3143b5-2dda-4772-902d-9bfbd98bf26d",
   "metadata": {},
   "outputs": [],
   "source": [
    "#podemos entonces acceder al propio objeto (una vez creado) desde el interior de sus métodos\n",
    "#Lo único que como este argumento hace referencia al objeto en sí mismo por convención se le llama self."
   ]
  },
  {
   "cell_type": "code",
   "execution_count": null,
   "id": "8918d662-580f-4cd8-8c9c-e38da261775c",
   "metadata": {},
   "outputs": [],
   "source": [
    "class Galleta:\n",
    "    chocolate = False\n",
    "\n",
    "    def chocolatear(self):\n",
    "        chocolate = True\n",
    "\n",
    "galleta = Galleta()\n",
    "galleta.chocolatear()\n",
    "print(galleta.chocolate)#imprime el valor de chocolate, pero accede al valor por defecto de la clase\n",
    "#ya que chcolate = True no es en referencia al objeto"
   ]
  },
  {
   "cell_type": "code",
   "execution_count": null,
   "id": "721966de-76b1-40f2-911d-2f47c8273fa9",
   "metadata": {},
   "outputs": [],
   "source": [
    "class Galleta:\n",
    "    chocolate = False\n",
    "\n",
    "    def chocolatear(self):\n",
    "        self.chocolate = True\n",
    "\n",
    "galleta = Galleta()\n",
    "galleta.chocolatear()\n",
    "print(galleta.chocolate)"
   ]
  },
  {
   "cell_type": "markdown",
   "id": "5670ef4d-6743-470c-a7ef-5c26da1462ea",
   "metadata": {},
   "source": [
    "#### Constructor, Destructor y str"
   ]
  },
  {
   "cell_type": "code",
   "execution_count": null,
   "id": "5eb263e7-8dff-4530-9272-748755301b93",
   "metadata": {},
   "outputs": [],
   "source": [
    "class Galleta:\n",
    "    chocolate = False\n",
    "\n",
    "    def __init__(self, sabor, color):\n",
    "        self.sabor = sabor\n",
    "        self.color = color\n",
    "        print(f\"Se acaba de crear una galleta {self.color} y {self.sabor}.\")\n",
    "    def __del__(self):\n",
    "        print(\"La galleta se está borrando de la memoria\")\n",
    "    def __str__(self):\n",
    "       return f\"Soy una galleta {self.color} y {self.sabor}.\""
   ]
  },
  {
   "cell_type": "code",
   "execution_count": null,
   "id": "cff173d2-da13-413b-a399-1dffc86612d7",
   "metadata": {},
   "outputs": [],
   "source": [
    "galleta_1 = Galleta(\"marrón\", \"amarga\")\n",
    "galleta_2 = Galleta(\"blanca\", \"dulce\")"
   ]
  },
  {
   "cell_type": "code",
   "execution_count": null,
   "id": "266ff7a2-a5b8-450f-9a0d-fa4d0b9d78e7",
   "metadata": {},
   "outputs": [],
   "source": [
    "del(galleta_1)"
   ]
  },
  {
   "cell_type": "code",
   "execution_count": null,
   "id": "07443738-b531-4794-ac71-bbfc0cf5987c",
   "metadata": {},
   "outputs": [],
   "source": [
    "print(galleta_2)\n",
    "print(galleta_1)"
   ]
  },
  {
   "cell_type": "code",
   "execution_count": null,
   "id": "ad033446-cdc8-49d3-a43f-31115605bc2a",
   "metadata": {},
   "outputs": [],
   "source": [
    "print(galleta_2)\n",
    "print(str(galleta_2))\n",
    "print(galleta_2.__str__())"
   ]
  },
  {
   "cell_type": "code",
   "execution_count": null,
   "id": "63f377e8-dbc1-4231-9dd3-6f4adaa48d40",
   "metadata": {},
   "outputs": [],
   "source": [
    "#Aunque no llamemos a del, el objeto se eliminará de la memoria al acabar la ejecucion del programa"
   ]
  },
  {
   "cell_type": "code",
   "execution_count": 9,
   "id": "2aa0134a-c20b-4240-b3e6-d94db0cb833a",
   "metadata": {},
   "outputs": [],
   "source": [
    "#Otro ejemplo\n",
    "class Pelicula:\n",
    "\n",
    "    # Constructor de clase\n",
    "    def __init__(self, titulo, duracion, lanzamiento):\n",
    "        self.titulo = titulo\n",
    "        self.duracion = duracion\n",
    "        self.lanzamiento = lanzamiento\n",
    "        print('Se ha creado la película:', self.titulo)\n",
    "        \n",
    "    # Esto devuelve el contenido del objeto, devuelve la representación de un objeto en forma de cadena. \n",
    "    # Un momento en que se llama automáticamente es cuando imprimirmos una variable por pantalla.\n",
    "    # Es como un getter de Java?\n",
    "    def __str__(self):\n",
    "        return '{} - ({}) - {}'.format(self.titulo, self.lanzamiento, self.duracion)\n",
    "    "
   ]
  },
  {
   "cell_type": "code",
   "execution_count": 10,
   "id": "62110723-ff18-4321-8a2f-6395ce061626",
   "metadata": {},
   "outputs": [],
   "source": [
    "class Catalogo:\n",
    "\n",
    "    peliculas = []  # Esta lista contendrá objetos de la clase Pelicula\n",
    "    distribuidora = 'sony'\n",
    "\n",
    "    def __init__(self, peliculas=[]):\n",
    "        self.peliculas = peliculas\n",
    "\n",
    "    def agregar(self, p):  # p será un objeto Pelicula\n",
    "        self.peliculas.append(p)\n",
    "\n",
    "    def mostrar(self):\n",
    "        for p in self.peliculas:\n",
    "            print(p)  # Print toma por defecto el metodo str(p) e imprimira lo definido en el metodo str de la clase Pelicula\n",
    "    def cuentaPeliculas(self):\n",
    "        a = 0\n",
    "        for p in self.peliculas:\n",
    "            a+=1\n",
    "        print('el numero de peliculas es: ', a)"
   ]
  },
  {
   "cell_type": "code",
   "execution_count": 11,
   "id": "b10e135f-ac43-4556-82c2-a559c93da293",
   "metadata": {},
   "outputs": [
    {
     "name": "stdout",
     "output_type": "stream",
     "text": [
      "Se ha creado la película: Avatar\n"
     ]
    }
   ],
   "source": [
    "pelicula1 = Pelicula('Avatar','190','2005') #Objeto de pelicula\n",
    "catalogo1 = Catalogo() #objeto de Catalogo que tiene una lista vacia como atributo"
   ]
  },
  {
   "cell_type": "code",
   "execution_count": 12,
   "id": "046a25ac-e193-4bcc-a5b7-16749a5b49f6",
   "metadata": {},
   "outputs": [
    {
     "name": "stdout",
     "output_type": "stream",
     "text": [
      "Avatar - (2005) - 190\n",
      "el numero de peliculas es:  1\n"
     ]
    }
   ],
   "source": [
    "catalogo1.agregar(pelicula1) #se añade a la lista vacia de la instancia catalogo1\n",
    "catalogo1.mostrar() #enseñamos el listado\n",
    "catalogo1.cuentaPeliculas()"
   ]
  },
  {
   "cell_type": "code",
   "execution_count": 13,
   "id": "179228b8-8935-42d4-bf63-4d6378d0c0f2",
   "metadata": {},
   "outputs": [
    {
     "name": "stdout",
     "output_type": "stream",
     "text": [
      "Se ha creado la película: The Batman\n",
      "el numero de peliculas es:  2\n"
     ]
    }
   ],
   "source": [
    "pelicula2 = Pelicula('The Batman','200',2020)\n",
    "catalogo1.agregar(pelicula2) \n",
    "catalogo1.cuentaPeliculas()"
   ]
  },
  {
   "cell_type": "code",
   "execution_count": 14,
   "id": "a03c0f77-2d64-4406-9db4-4eb9fec85487",
   "metadata": {},
   "outputs": [
    {
     "name": "stdout",
     "output_type": "stream",
     "text": [
      "Se ha creado la película: The Joker\n",
      "Avatar - (2005) - 190\n",
      "The Batman - (2020) - 200\n",
      "The Joker - (2019) - 200\n",
      "el numero de peliculas es:  3\n"
     ]
    }
   ],
   "source": [
    "pelicula3 = Pelicula('The Joker','200', 2019)\n",
    "catalogo2 = Catalogo([pelicula1,pelicula2, pelicula3]) #en vez de agregar peliculas, llamamos al constructor indicandole la lista con las peliculas\n",
    "catalogo2.mostrar()\n",
    "catalogo2.cuentaPeliculas()"
   ]
  },
  {
   "cell_type": "code",
   "execution_count": 15,
   "id": "e96fb2f4-15b5-4aab-92d7-9561aa5cc042",
   "metadata": {},
   "outputs": [
    {
     "data": {
      "text/plain": [
       "'sony'"
      ]
     },
     "execution_count": 15,
     "metadata": {},
     "output_type": "execute_result"
    }
   ],
   "source": [
    "catalogo1.distribuidora"
   ]
  },
  {
   "cell_type": "code",
   "execution_count": 16,
   "id": "3ec27692-6377-4d24-9970-6230dbb7037d",
   "metadata": {},
   "outputs": [
    {
     "data": {
      "text/plain": [
       "'sony'"
      ]
     },
     "execution_count": 16,
     "metadata": {},
     "output_type": "execute_result"
    }
   ],
   "source": [
    "catalogo2.distribuidora"
   ]
  },
  {
   "cell_type": "code",
   "execution_count": null,
   "id": "b4c1edc3-2dff-4135-aac6-d9c0df23c04c",
   "metadata": {},
   "outputs": [],
   "source": []
  }
 ],
 "metadata": {
  "kernelspec": {
   "display_name": "Python 3 (ipykernel)",
   "language": "python",
   "name": "python3"
  },
  "language_info": {
   "codemirror_mode": {
    "name": "ipython",
    "version": 3
   },
   "file_extension": ".py",
   "mimetype": "text/x-python",
   "name": "python",
   "nbconvert_exporter": "python",
   "pygments_lexer": "ipython3",
   "version": "3.9.7"
  }
 },
 "nbformat": 4,
 "nbformat_minor": 5
}
