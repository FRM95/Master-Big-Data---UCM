{
 "cells": [
  {
   "cell_type": "code",
   "execution_count": 4,
   "id": "1457f531",
   "metadata": {},
   "outputs": [
    {
     "data": {
      "text/plain": [
       "[{'nombre': 'Richard', 'apellidos': 'Stallman', 'dni': '1234567A'},\n",
       " {'nombre': 'Aaron', 'apellidos': 'Swartz', 'dni': '1234568A'}]"
      ]
     },
     "execution_count": 4,
     "metadata": {},
     "output_type": "execute_result"
    }
   ],
   "source": [
    "clientes = [\n",
    "    {'nombre' : 'Richard', 'apellidos' : 'Stallman', 'dni' : \"1234567A\"},\n",
    "    {'nombre' : 'Aaron', 'apellidos' : 'Swartz', 'dni' : \"1234568A\"}\n",
    "    \n",
    "]\n",
    "\n",
    "clientes"
   ]
  },
  {
   "cell_type": "code",
   "execution_count": 8,
   "id": "5a40a480",
   "metadata": {},
   "outputs": [],
   "source": [
    "def mostrar_cliente(clientes, dni):\n",
    "    for c in clientes:\n",
    "        if dni == c['dni']:\n",
    "            print(f'{c[\"nombre\"]} {c[\"apellidos\"]}')\n",
    "            return\n",
    "    print('Cliente no encontrado')"
   ]
  },
  {
   "cell_type": "code",
   "execution_count": 9,
   "id": "a0554c15",
   "metadata": {},
   "outputs": [
    {
     "name": "stdout",
     "output_type": "stream",
     "text": [
      "Richard Stallman\n"
     ]
    },
    {
     "data": {
      "text/plain": [
       "0"
      ]
     },
     "execution_count": 9,
     "metadata": {},
     "output_type": "execute_result"
    }
   ],
   "source": [
    "mostrar_cliente(clientes, '1234567A')"
   ]
  },
  {
   "cell_type": "code",
   "execution_count": 14,
   "id": "bf14d2de",
   "metadata": {},
   "outputs": [],
   "source": [
    "def borrar_cliente(clientes, dni):\n",
    "    for i,c in enumerate(clientes): #i = indexacion, c = nombre del cliente\n",
    "        if dni == c['dni']:\n",
    "            del clientes[i]\n",
    "            print(f'El cliente borrado ha sido: {c}')\n",
    "            return\n",
    "    print('Cliente no encontrado')"
   ]
  },
  {
   "cell_type": "code",
   "execution_count": 15,
   "id": "9264508f",
   "metadata": {},
   "outputs": [
    {
     "name": "stdout",
     "output_type": "stream",
     "text": [
      "Cliente no encontrado\n"
     ]
    }
   ],
   "source": [
    "borrar_cliente(clientes,'hgcfgh4')"
   ]
  },
  {
   "cell_type": "code",
   "execution_count": 16,
   "id": "5f6ece8f",
   "metadata": {},
   "outputs": [
    {
     "name": "stdout",
     "output_type": "stream",
     "text": [
      "El cliente borrado ha sido: {'nombre': 'Richard', 'apellidos': 'Stallman', 'dni': '1234567A'}\n"
     ]
    }
   ],
   "source": [
    "borrar_cliente(clientes,'1234567A')"
   ]
  },
  {
   "cell_type": "code",
   "execution_count": 17,
   "id": "dc5c84b0",
   "metadata": {},
   "outputs": [
    {
     "data": {
      "text/plain": [
       "[{'nombre': 'Aaron', 'apellidos': 'Swartz', 'dni': '1234568A'}]"
      ]
     },
     "execution_count": 17,
     "metadata": {},
     "output_type": "execute_result"
    }
   ],
   "source": [
    "clientes"
   ]
  },
  {
   "cell_type": "code",
   "execution_count": 48,
   "id": "159ff57b",
   "metadata": {},
   "outputs": [],
   "source": [
    "class Cliente:\n",
    "    \n",
    "    def __init__(self, nombre, apellidos, dni): #ESTO ES EL CONSTRUCTOR DE LA CLASE Y SE TIENE QUE ESCRIBIR TAL CUAL\n",
    "        self.nombre = nombre #los self. son los atributos de los clientes\n",
    "        self.apellidos = apellidos\n",
    "        self.dni = dni\n",
    "       \n",
    "    def __str__(self): #esto sirve para realizar los prints de un cliente, es decir, para realizar un print de un objeto\n",
    "        return f'{self.nombre} {self.apellidos}'\n",
    "    \n",
    "\n",
    "class Empresa:\n",
    "    \n",
    "    def __init__(self, clientes = []): #ESTO ES EL CONSTRUCTOR DE LA CLASE Y SE TIENE QUE ESCRIBIR TAL CUAL\n",
    "        self.clientes = clientes\n",
    "    \n",
    "    def mostrar_cliente(self, dni):\n",
    "        for c in self.clientes:\n",
    "            if dni == c.dni:\n",
    "                print(f'{c}')\n",
    "                return\n",
    "        print('Cliente no encontrado')\n",
    "    \n",
    "    def borrar_cliente(self, dni):\n",
    "        for i,c in enumerate(self.clientes): #i = indexacion, c = nombre del cliente\n",
    "            if dni == c.dni:\n",
    "                del (self.clientes[i])\n",
    "                print(f'{c}')\n",
    "                return\n",
    "        print('Cliente no encontrado')\n",
    "        \n",
    "        \n",
    "        "
   ]
  },
  {
   "cell_type": "code",
   "execution_count": 49,
   "id": "0d792dd3",
   "metadata": {},
   "outputs": [],
   "source": [
    "miguel = Cliente(nombre = 'Miguel', apellidos= 'Moreno', dni= '1234231Z')\n",
    "beatriz = Cliente(nombre = 'Beatriz', apellidos= 'Garcia', dni= '1554231Z')\n",
    "rodrigo = Cliente(nombre = 'Rodrigo', apellidos= 'Montoro', dni= '1235631Z')"
   ]
  },
  {
   "cell_type": "code",
   "execution_count": 50,
   "id": "c99f9b84",
   "metadata": {},
   "outputs": [
    {
     "data": {
      "text/plain": [
       "<__main__.Cliente at 0x17336218eb0>"
      ]
     },
     "execution_count": 50,
     "metadata": {},
     "output_type": "execute_result"
    }
   ],
   "source": [
    "miguel #miguel es un objeto creado de la clase cliente, de tipo cliente"
   ]
  },
  {
   "cell_type": "code",
   "execution_count": 51,
   "id": "448787b6",
   "metadata": {},
   "outputs": [
    {
     "name": "stdout",
     "output_type": "stream",
     "text": [
      "Miguel Moreno\n"
     ]
    }
   ],
   "source": [
    "print(miguel) #lo imprime ya que se ha creado el __str__ para imprimir objetos"
   ]
  },
  {
   "cell_type": "code",
   "execution_count": 52,
   "id": "ab5ecf25",
   "metadata": {},
   "outputs": [],
   "source": [
    "empresa = Empresa()"
   ]
  },
  {
   "cell_type": "code",
   "execution_count": 53,
   "id": "5afa804a",
   "metadata": {},
   "outputs": [
    {
     "data": {
      "text/plain": [
       "<__main__.Empresa at 0x17336218430>"
      ]
     },
     "execution_count": 53,
     "metadata": {},
     "output_type": "execute_result"
    }
   ],
   "source": [
    "empresa"
   ]
  },
  {
   "cell_type": "code",
   "execution_count": 54,
   "id": "e47bd04e",
   "metadata": {},
   "outputs": [
    {
     "name": "stdout",
     "output_type": "stream",
     "text": [
      "<__main__.Empresa object at 0x0000017336218430>\n"
     ]
    }
   ],
   "source": [
    "print(empresa) #aqui sale asi ya que no se ha creado el metodo __str__"
   ]
  },
  {
   "cell_type": "code",
   "execution_count": 55,
   "id": "245f331b",
   "metadata": {},
   "outputs": [],
   "source": [
    "empresa = Empresa(clientes = [miguel,beatriz,rodrigo])"
   ]
  },
  {
   "cell_type": "code",
   "execution_count": 56,
   "id": "7fc60223",
   "metadata": {},
   "outputs": [
    {
     "name": "stdout",
     "output_type": "stream",
     "text": [
      "[<__main__.Cliente object at 0x0000017336218EB0>, <__main__.Cliente object at 0x000001733611E700>, <__main__.Cliente object at 0x0000017336218BE0>]\n"
     ]
    }
   ],
   "source": [
    "print(empresa.clientes)"
   ]
  },
  {
   "cell_type": "code",
   "execution_count": 57,
   "id": "199ee828",
   "metadata": {},
   "outputs": [
    {
     "name": "stdout",
     "output_type": "stream",
     "text": [
      "Miguel Moreno\n"
     ]
    }
   ],
   "source": [
    "empresa.mostrar_cliente('1234231Z')"
   ]
  },
  {
   "cell_type": "code",
   "execution_count": 58,
   "id": "92086d0b",
   "metadata": {},
   "outputs": [
    {
     "name": "stdout",
     "output_type": "stream",
     "text": [
      "Cliente no encontrado\n"
     ]
    }
   ],
   "source": [
    "empresa.mostrar_cliente('123563HC')"
   ]
  },
  {
   "cell_type": "code",
   "execution_count": 59,
   "id": "968a98e6",
   "metadata": {},
   "outputs": [
    {
     "name": "stdout",
     "output_type": "stream",
     "text": [
      "Miguel Moreno\n",
      "Beatriz Garcia\n",
      "Rodrigo Montoro\n"
     ]
    }
   ],
   "source": [
    "for c in empresa.clientes:\n",
    "    print(c)"
   ]
  },
  {
   "cell_type": "code",
   "execution_count": 60,
   "id": "b7c296c4",
   "metadata": {},
   "outputs": [
    {
     "name": "stdout",
     "output_type": "stream",
     "text": [
      "Beatriz Garcia\n"
     ]
    }
   ],
   "source": [
    "empresa.borrar_cliente('1554231Z')"
   ]
  },
  {
   "cell_type": "code",
   "execution_count": 61,
   "id": "d7e81e93",
   "metadata": {},
   "outputs": [
    {
     "name": "stdout",
     "output_type": "stream",
     "text": [
      "Miguel Moreno\n",
      "Rodrigo Montoro\n"
     ]
    }
   ],
   "source": [
    "for c in empresa.clientes:\n",
    "    print(c)"
   ]
  },
  {
   "cell_type": "code",
   "execution_count": 62,
   "id": "2a6efbdb",
   "metadata": {},
   "outputs": [],
   "source": [
    "class Galleta: #clase sin nada\n",
    "    pass"
   ]
  },
  {
   "cell_type": "code",
   "execution_count": 63,
   "id": "474f9329",
   "metadata": {},
   "outputs": [],
   "source": [
    "galleta_1 = Galleta()\n",
    "galleta_2 = Galleta()"
   ]
  },
  {
   "cell_type": "code",
   "execution_count": 64,
   "id": "b88115ba",
   "metadata": {},
   "outputs": [
    {
     "data": {
      "text/plain": [
       "__main__.Galleta"
      ]
     },
     "execution_count": 64,
     "metadata": {},
     "output_type": "execute_result"
    }
   ],
   "source": [
    "type(galleta_1)"
   ]
  },
  {
   "cell_type": "code",
   "execution_count": 65,
   "id": "8403c1e3",
   "metadata": {},
   "outputs": [],
   "source": [
    "g1 = Galleta()\n",
    "g2 = Galleta()"
   ]
  },
  {
   "cell_type": "code",
   "execution_count": 66,
   "id": "f28327a2",
   "metadata": {},
   "outputs": [],
   "source": [
    "g1.sabor = 'salada'"
   ]
  },
  {
   "cell_type": "code",
   "execution_count": 67,
   "id": "14ae6831",
   "metadata": {},
   "outputs": [
    {
     "name": "stdout",
     "output_type": "stream",
     "text": [
      "salada\n"
     ]
    }
   ],
   "source": [
    "print(g1.sabor)"
   ]
  },
  {
   "cell_type": "code",
   "execution_count": 68,
   "id": "8e87c30b",
   "metadata": {},
   "outputs": [],
   "source": [
    "g1.color = 'amarillo'"
   ]
  },
  {
   "cell_type": "code",
   "execution_count": 69,
   "id": "fb6074f8",
   "metadata": {},
   "outputs": [],
   "source": [
    "#creacion de clase sin constructor\n",
    "class Galleta:\n",
    "    sabor = 'salada'\n",
    "    color = 'amarilla' #has creado variable globales, todas las Galletas tendran estos dos atributos con estos dos valores"
   ]
  },
  {
   "cell_type": "code",
   "execution_count": 70,
   "id": "5f6dc349",
   "metadata": {},
   "outputs": [],
   "source": [
    "#CREACION DE CLASE GALLETA DE MANERA CON CONSTRUCTOR\n",
    "\n",
    "class Galleta:\n",
    "    def __init__(self,color,sabor):\n",
    "        self.color = color\n",
    "        self.sabor = sabor"
   ]
  },
  {
   "cell_type": "code",
   "execution_count": 71,
   "id": "8b6aa82c",
   "metadata": {},
   "outputs": [],
   "source": [
    "g1 = Galleta(color='amarilla',sabor='dulce') #se han creado dos objetos de tipo galleta\n",
    "g2 = Galleta(color='azul',sabor='amarga')"
   ]
  },
  {
   "cell_type": "code",
   "execution_count": 72,
   "id": "2f49fa4b",
   "metadata": {},
   "outputs": [
    {
     "data": {
      "text/plain": [
       "'amarilla'"
      ]
     },
     "execution_count": 72,
     "metadata": {},
     "output_type": "execute_result"
    }
   ],
   "source": [
    "g1.color"
   ]
  },
  {
   "cell_type": "code",
   "execution_count": 73,
   "id": "54f38e3a",
   "metadata": {},
   "outputs": [],
   "source": [
    "class Galleta:\n",
    "    def __init__(self,color,sabor): #el color y el sabor lo tendremos que especificar\n",
    "        self.color = color\n",
    "        self.sabor = sabor\n",
    "        self.chocolate = False #el atributo chocolate sera falso para todos los objetos de tipo galleta\n",
    "                               #la clase galleta tiene aun asi 3 atributos\n",
    "        \n",
    "    def chocolatear(self):\n",
    "        self.chocolate = True\n",
    "    \n",
    "    def tiene_chocolate(self):\n",
    "        if self.chocolate:\n",
    "            print('Si, si tiene chocolate')\n",
    "        else:\n",
    "            print('No, no tiene chocolate')"
   ]
  },
  {
   "cell_type": "code",
   "execution_count": 81,
   "id": "86a0b761",
   "metadata": {},
   "outputs": [],
   "source": [
    "g1 = Galleta(sabor = 'salada', color = 'amarilla')\n",
    "g2 = Galleta(sabor = 'dulce', color = 'verde')"
   ]
  },
  {
   "cell_type": "code",
   "execution_count": 82,
   "id": "2bd23352",
   "metadata": {},
   "outputs": [
    {
     "name": "stdout",
     "output_type": "stream",
     "text": [
      "No, no tiene chocolate\n"
     ]
    }
   ],
   "source": [
    "g1.tiene_chocolate()"
   ]
  },
  {
   "cell_type": "code",
   "execution_count": 83,
   "id": "e51667b5",
   "metadata": {},
   "outputs": [
    {
     "name": "stdout",
     "output_type": "stream",
     "text": [
      "No, no tiene chocolate\n"
     ]
    }
   ],
   "source": [
    "g2.tiene_chocolate()"
   ]
  },
  {
   "cell_type": "code",
   "execution_count": 84,
   "id": "d99e0eae",
   "metadata": {},
   "outputs": [],
   "source": [
    "g2.chocolatear()"
   ]
  },
  {
   "cell_type": "code",
   "execution_count": 85,
   "id": "a31fbdac",
   "metadata": {},
   "outputs": [
    {
     "name": "stdout",
     "output_type": "stream",
     "text": [
      "Si, si tiene chocolate\n"
     ]
    }
   ],
   "source": [
    "g2.tiene_chocolate()"
   ]
  },
  {
   "cell_type": "code",
   "execution_count": null,
   "id": "27b5b826",
   "metadata": {},
   "outputs": [],
   "source": []
  }
 ],
 "metadata": {
  "kernelspec": {
   "display_name": "Python 3 (ipykernel)",
   "language": "python",
   "name": "python3"
  },
  "language_info": {
   "codemirror_mode": {
    "name": "ipython",
    "version": 3
   },
   "file_extension": ".py",
   "mimetype": "text/x-python",
   "name": "python",
   "nbconvert_exporter": "python",
   "pygments_lexer": "ipython3",
   "version": "3.9.7"
  }
 },
 "nbformat": 4,
 "nbformat_minor": 5
}
