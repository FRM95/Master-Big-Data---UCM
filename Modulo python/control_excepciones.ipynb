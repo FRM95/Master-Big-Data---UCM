{
 "cells": [
  {
   "cell_type": "code",
   "execution_count": 1,
   "id": "fdb3d2e7",
   "metadata": {},
   "outputs": [
    {
     "data": {
      "text/plain": [
       "3"
      ]
     },
     "execution_count": 1,
     "metadata": {},
     "output_type": "execute_result"
    }
   ],
   "source": [
    "lista = [1,2,3]\n",
    "lista.pop()"
   ]
  },
  {
   "cell_type": "code",
   "execution_count": 2,
   "id": "44e3cbbf",
   "metadata": {},
   "outputs": [
    {
     "data": {
      "text/plain": [
       "[1, 2]"
      ]
     },
     "execution_count": 2,
     "metadata": {},
     "output_type": "execute_result"
    }
   ],
   "source": [
    "lista"
   ]
  },
  {
   "cell_type": "code",
   "execution_count": 3,
   "id": "7aa288db",
   "metadata": {},
   "outputs": [
    {
     "ename": "IndexError",
     "evalue": "pop from empty list",
     "output_type": "error",
     "traceback": [
      "\u001b[1;31m---------------------------------------------------------------------------\u001b[0m",
      "\u001b[1;31mIndexError\u001b[0m                                Traceback (most recent call last)",
      "\u001b[1;32m~\\AppData\\Local\\Temp/ipykernel_12184/288648805.py\u001b[0m in \u001b[0;36m<module>\u001b[1;34m\u001b[0m\n\u001b[0;32m      1\u001b[0m \u001b[0mlista\u001b[0m\u001b[1;33m.\u001b[0m\u001b[0mpop\u001b[0m\u001b[1;33m(\u001b[0m\u001b[1;33m)\u001b[0m\u001b[1;33m\u001b[0m\u001b[1;33m\u001b[0m\u001b[0m\n\u001b[0;32m      2\u001b[0m \u001b[0mlista\u001b[0m\u001b[1;33m.\u001b[0m\u001b[0mpop\u001b[0m\u001b[1;33m(\u001b[0m\u001b[1;33m)\u001b[0m\u001b[1;33m\u001b[0m\u001b[1;33m\u001b[0m\u001b[0m\n\u001b[1;32m----> 3\u001b[1;33m \u001b[0mlista\u001b[0m\u001b[1;33m.\u001b[0m\u001b[0mpop\u001b[0m\u001b[1;33m(\u001b[0m\u001b[1;33m)\u001b[0m\u001b[1;33m\u001b[0m\u001b[1;33m\u001b[0m\u001b[0m\n\u001b[0m",
      "\u001b[1;31mIndexError\u001b[0m: pop from empty list"
     ]
    }
   ],
   "source": [
    "lista.pop()\n",
    "lista.pop()\n",
    "lista.pop()"
   ]
  },
  {
   "cell_type": "code",
   "execution_count": 7,
   "id": "69fada61",
   "metadata": {},
   "outputs": [
    {
     "name": "stdout",
     "output_type": "stream",
     "text": [
      "[1, 2]\n",
      "[1]\n",
      "[]\n"
     ]
    }
   ],
   "source": [
    "lista = [1,2,3]\n",
    "if len(lista)>0:\n",
    "    lista.pop()\n",
    "    print(lista)\n",
    "\n",
    "if len(lista)>0:\n",
    "    lista.pop()\n",
    "    print(lista)\n",
    "    \n",
    "if len(lista)>0:\n",
    "    lista.pop()\n",
    "    print(lista)\n",
    "    \n",
    "if len(lista)>0:\n",
    "    lista.pop()\n",
    "    print(lista)"
   ]
  },
  {
   "cell_type": "code",
   "execution_count": 12,
   "id": "c4e0aaa8",
   "metadata": {},
   "outputs": [],
   "source": [
    "lista = [1,2,3]\n",
    "def compruebaLista(x):\n",
    "    print(x)\n",
    "    if len(lista)>0:\n",
    "        lista.pop()\n",
    "        compruebaLista(x)\n",
    "    "
   ]
  },
  {
   "cell_type": "code",
   "execution_count": 13,
   "id": "b0cd10b4",
   "metadata": {},
   "outputs": [
    {
     "name": "stdout",
     "output_type": "stream",
     "text": [
      "[1, 2, 3]\n",
      "[1, 2]\n",
      "[1]\n",
      "[]\n"
     ]
    }
   ],
   "source": [
    "compruebaLista(lista)"
   ]
  },
  {
   "cell_type": "code",
   "execution_count": 14,
   "id": "4b2de97d",
   "metadata": {},
   "outputs": [],
   "source": [
    "lista = [1,2,3]\n",
    "def compruebaLista2(x):\n",
    "    for i in range(0,len(x)+1):\n",
    "        print(x)\n",
    "        if(len(x)>0):\n",
    "            x.pop()"
   ]
  },
  {
   "cell_type": "code",
   "execution_count": 15,
   "id": "136a2eec",
   "metadata": {},
   "outputs": [
    {
     "name": "stdout",
     "output_type": "stream",
     "text": [
      "[1, 2, 3]\n",
      "[1, 2]\n",
      "[1]\n",
      "[]\n"
     ]
    }
   ],
   "source": [
    "compruebaLista2(lista)"
   ]
  },
  {
   "cell_type": "code",
   "execution_count": null,
   "id": "085d53aa",
   "metadata": {},
   "outputs": [],
   "source": [
    "try: \n",
    "    a = float(input('Introduce un numero: '))\n",
    "    b = 3\n",
    "    \n",
    "    print(f'{a}/{b} = {a/b}')\n",
    "\n",
    "except:\n",
    "    print('Exited with error: wrong number')"
   ]
  },
  {
   "cell_type": "code",
   "execution_count": 2,
   "id": "982eabfa",
   "metadata": {},
   "outputs": [
    {
     "name": "stdout",
     "output_type": "stream",
     "text": [
      "Introduce un numero: sxw\n",
      "Exited with error: wrong number\n",
      "Introduce un numero: 8\n",
      "8.0/3 = 2.6666666666666665\n"
     ]
    }
   ],
   "source": [
    "while True:\n",
    "    try: \n",
    "      a = float(input('Introduce un numero: '))\n",
    "      b = 3\n",
    "      print(f'{a}/{b} = {a/b}')\n",
    "      break\n",
    "    except:\n",
    "      print('Exited with error: wrong number')"
   ]
  },
  {
   "cell_type": "code",
   "execution_count": null,
   "id": "51e07167",
   "metadata": {},
   "outputs": [],
   "source": []
  }
 ],
 "metadata": {
  "kernelspec": {
   "display_name": "Python 3 (ipykernel)",
   "language": "python",
   "name": "python3"
  },
  "language_info": {
   "codemirror_mode": {
    "name": "ipython",
    "version": 3
   },
   "file_extension": ".py",
   "mimetype": "text/x-python",
   "name": "python",
   "nbconvert_exporter": "python",
   "pygments_lexer": "ipython3",
   "version": "3.9.7"
  }
 },
 "nbformat": 4,
 "nbformat_minor": 5
}
