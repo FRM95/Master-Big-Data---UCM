{
 "cells": [
  {
   "cell_type": "code",
   "execution_count": 7,
   "id": "354fb328",
   "metadata": {},
   "outputs": [],
   "source": [
    "pila = [0,1,2,3,4] "
   ]
  },
  {
   "cell_type": "code",
   "execution_count": 8,
   "id": "9b939704",
   "metadata": {},
   "outputs": [],
   "source": [
    "pila.append(5)"
   ]
  },
  {
   "cell_type": "code",
   "execution_count": 9,
   "id": "b5197d3a",
   "metadata": {},
   "outputs": [
    {
     "data": {
      "text/plain": [
       "[0, 1, 2, 3, 4, 5]"
      ]
     },
     "execution_count": 9,
     "metadata": {},
     "output_type": "execute_result"
    }
   ],
   "source": [
    "pila"
   ]
  },
  {
   "cell_type": "code",
   "execution_count": 10,
   "id": "14fa8914",
   "metadata": {},
   "outputs": [
    {
     "data": {
      "text/plain": [
       "[0, 1, 2, 3, 4]"
      ]
     },
     "execution_count": 10,
     "metadata": {},
     "output_type": "execute_result"
    }
   ],
   "source": [
    "pila.pop() #como una pila, borrara el ultimo elemento : LIFO (last in first out)\n",
    "pila"
   ]
  },
  {
   "cell_type": "code",
   "execution_count": 11,
   "id": "705d8d93",
   "metadata": {},
   "outputs": [
    {
     "data": {
      "text/plain": [
       "[0, 1, 2, 3]"
      ]
     },
     "execution_count": 11,
     "metadata": {},
     "output_type": "execute_result"
    }
   ],
   "source": [
    "pila.pop() # python no implementa tipos pila o cola, implementa herramientas para borrar de manera FIFO O LIFO\n",
    "pila"
   ]
  },
  {
   "cell_type": "code",
   "execution_count": 12,
   "id": "adba7213",
   "metadata": {},
   "outputs": [],
   "source": [
    "#Para las COLAS o metodos FIFO debes utilizar librerias\n",
    "from collections import deque"
   ]
  },
  {
   "cell_type": "code",
   "execution_count": 15,
   "id": "025fa19b",
   "metadata": {},
   "outputs": [],
   "source": [
    "cola = deque()"
   ]
  },
  {
   "cell_type": "code",
   "execution_count": 16,
   "id": "03f315b7",
   "metadata": {},
   "outputs": [],
   "source": [
    "cola.append('Miwe')\n",
    "cola.append('Bob')\n",
    "cola.append('Alice')"
   ]
  },
  {
   "cell_type": "code",
   "execution_count": 17,
   "id": "5718e2bd",
   "metadata": {},
   "outputs": [
    {
     "data": {
      "text/plain": [
       "deque(['Miwe', 'Bob', 'Alice'])"
      ]
     },
     "execution_count": 17,
     "metadata": {},
     "output_type": "execute_result"
    }
   ],
   "source": [
    "cola"
   ]
  },
  {
   "cell_type": "code",
   "execution_count": 18,
   "id": "4fef73b8",
   "metadata": {},
   "outputs": [
    {
     "data": {
      "text/plain": [
       "deque(['Bob', 'Alice'])"
      ]
     },
     "execution_count": 18,
     "metadata": {},
     "output_type": "execute_result"
    }
   ],
   "source": [
    "cola.popleft() #esto realiza un pop pero por la izquierda, moviendo los elementos hacia la izquierda\n",
    "cola"
   ]
  },
  {
   "cell_type": "code",
   "execution_count": null,
   "id": "fd753d43",
   "metadata": {},
   "outputs": [],
   "source": []
  }
 ],
 "metadata": {
  "kernelspec": {
   "display_name": "Python 3 (ipykernel)",
   "language": "python",
   "name": "python3"
  },
  "language_info": {
   "codemirror_mode": {
    "name": "ipython",
    "version": 3
   },
   "file_extension": ".py",
   "mimetype": "text/x-python",
   "name": "python",
   "nbconvert_exporter": "python",
   "pygments_lexer": "ipython3",
   "version": "3.9.7"
  }
 },
 "nbformat": 4,
 "nbformat_minor": 5
}
