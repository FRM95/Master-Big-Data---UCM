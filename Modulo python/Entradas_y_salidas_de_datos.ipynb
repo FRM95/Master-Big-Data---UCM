{
 "cells": [
  {
   "cell_type": "code",
   "execution_count": 1,
   "id": "55cac255",
   "metadata": {},
   "outputs": [
    {
     "name": "stdout",
     "output_type": "stream",
     "text": [
      "Introduce un número decimal: 3.14\n"
     ]
    }
   ],
   "source": [
    "decimal =  float(input('Introduce un número decimal: '))"
   ]
  },
  {
   "cell_type": "code",
   "execution_count": 2,
   "id": "83c365bb",
   "metadata": {},
   "outputs": [
    {
     "data": {
      "text/plain": [
       "3.14"
      ]
     },
     "execution_count": 2,
     "metadata": {},
     "output_type": "execute_result"
    }
   ],
   "source": [
    "decimal"
   ]
  },
  {
   "cell_type": "code",
   "execution_count": 3,
   "id": "c02f062d",
   "metadata": {},
   "outputs": [
    {
     "data": {
      "text/plain": [
       "float"
      ]
     },
     "execution_count": 3,
     "metadata": {},
     "output_type": "execute_result"
    }
   ],
   "source": [
    "type(decimal)"
   ]
  },
  {
   "cell_type": "code",
   "execution_count": 8,
   "id": "1c85b1ae",
   "metadata": {},
   "outputs": [
    {
     "name": "stdout",
     "output_type": "stream",
     "text": [
      "0\n",
      "1\n",
      "2\n"
     ]
    }
   ],
   "source": [
    "for x in range(3): #range nos permite seleccionar las veces a iterar; range(1,3) -> permite iterar 3 veces desde la pos 1\n",
    "    print(x)"
   ]
  },
  {
   "cell_type": "code",
   "execution_count": 7,
   "id": "d6e5e8d4",
   "metadata": {},
   "outputs": [
    {
     "name": "stdout",
     "output_type": "stream",
     "text": [
      "1\n",
      "2\n"
     ]
    }
   ],
   "source": [
    "for x in range(1,3): #range nos permite seleccionar las veces a iterar; range(1,3) -> permite iterar 3 veces desde la pos 1\n",
    "    print(x)"
   ]
  },
  {
   "cell_type": "code",
   "execution_count": 11,
   "id": "ce7c5fb7",
   "metadata": {},
   "outputs": [
    {
     "name": "stdout",
     "output_type": "stream",
     "text": [
      "Introduce un elemento a la lista valores: wjevnwidfnv\n",
      "Introduce un elemento a la lista valores: elemento2\n",
      "Introduce un elemento a la lista valores: 22333\n"
     ]
    }
   ],
   "source": [
    "valores = []\n",
    "for x in range(3):\n",
    "    valores.append(input('Introduce un elemento a la lista valores: '))"
   ]
  },
  {
   "cell_type": "code",
   "execution_count": 12,
   "id": "6c5af4e1",
   "metadata": {},
   "outputs": [
    {
     "data": {
      "text/plain": [
       "['wjevnwidfnv', 'elemento2', '22333']"
      ]
     },
     "execution_count": 12,
     "metadata": {},
     "output_type": "execute_result"
    }
   ],
   "source": [
    "valores"
   ]
  },
  {
   "cell_type": "code",
   "execution_count": 14,
   "id": "237e6cb0",
   "metadata": {},
   "outputs": [
    {
     "name": "stdout",
     "output_type": "stream",
     "text": [
      "Hola no tengo pito xd 3\n"
     ]
    }
   ],
   "source": [
    "a = 'pito'\n",
    "b = 'xd'\n",
    "c = 3\n",
    "print('Hola no tengo', a, b, str(c)) #se debe hacer cast de string a la variable c"
   ]
  },
  {
   "cell_type": "code",
   "execution_count": 23,
   "id": "5a65ed9a",
   "metadata": {},
   "outputs": [
    {
     "name": "stdout",
     "output_type": "stream",
     "text": [
      "Hola no tengo pito jejeje 3\n"
     ]
    }
   ],
   "source": [
    "print('Hola no tengo ' + a + ' jejeje ' + str(c)) #se debe hacer cast de string a la variable c"
   ]
  },
  {
   "cell_type": "code",
   "execution_count": 17,
   "id": "3d8759e1",
   "metadata": {},
   "outputs": [
    {
     "name": "stdout",
     "output_type": "stream",
     "text": [
      "Hola pito, soy miwe xd, tengo 3 coches\n"
     ]
    }
   ],
   "source": [
    "print('Hola {}, soy miwe {}, tengo {} coches'. format(a,b,c))"
   ]
  },
  {
   "cell_type": "code",
   "execution_count": 25,
   "id": "7059f004",
   "metadata": {},
   "outputs": [
    {
     "name": "stdout",
     "output_type": "stream",
     "text": [
      "Hola pito, soy Miwe y tengo 3 coches\n"
     ]
    }
   ],
   "source": [
    "print(f'Hola {a}, soy Miwe y tengo {c} coches')"
   ]
  },
  {
   "cell_type": "code",
   "execution_count": null,
   "id": "84532240",
   "metadata": {},
   "outputs": [],
   "source": []
  }
 ],
 "metadata": {
  "kernelspec": {
   "display_name": "Python 3 (ipykernel)",
   "language": "python",
   "name": "python3"
  },
  "language_info": {
   "codemirror_mode": {
    "name": "ipython",
    "version": 3
   },
   "file_extension": ".py",
   "mimetype": "text/x-python",
   "name": "python",
   "nbconvert_exporter": "python",
   "pygments_lexer": "ipython3",
   "version": "3.9.7"
  }
 },
 "nbformat": 4,
 "nbformat_minor": 5
}
