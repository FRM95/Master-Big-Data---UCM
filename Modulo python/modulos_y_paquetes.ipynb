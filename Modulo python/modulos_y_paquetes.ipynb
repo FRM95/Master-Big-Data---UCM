{
 "cells": [
  {
   "cell_type": "code",
   "execution_count": 2,
   "id": "8c13d79f",
   "metadata": {},
   "outputs": [],
   "source": [
    "import saludos"
   ]
  },
  {
   "cell_type": "code",
   "execution_count": 4,
   "id": "184a3ce9",
   "metadata": {},
   "outputs": [
    {
     "name": "stdout",
     "output_type": "stream",
     "text": [
      "Hola, te estoy saludando desde la funcion saludar del modulo saludo\n"
     ]
    }
   ],
   "source": [
    "saludos.saludar()"
   ]
  },
  {
   "cell_type": "code",
   "execution_count": 5,
   "id": "981598a2",
   "metadata": {},
   "outputs": [],
   "source": [
    "from saludos import saludar"
   ]
  },
  {
   "cell_type": "code",
   "execution_count": 6,
   "id": "df51f322",
   "metadata": {},
   "outputs": [
    {
     "name": "stdout",
     "output_type": "stream",
     "text": [
      "Hola, te estoy saludando desde la funcion saludar del modulo saludo\n"
     ]
    }
   ],
   "source": [
    "saludar()"
   ]
  },
  {
   "cell_type": "code",
   "execution_count": 10,
   "id": "5a0a2ac6",
   "metadata": {},
   "outputs": [],
   "source": [
    "from collections import Counter #importamos la libreria collections el modulo counter"
   ]
  },
  {
   "cell_type": "code",
   "execution_count": 11,
   "id": "c9c0c5e4",
   "metadata": {},
   "outputs": [],
   "source": [
    "l = [1,2,3,4,4,5,6,7,8,9]"
   ]
  },
  {
   "cell_type": "code",
   "execution_count": 12,
   "id": "dbc5d7b9",
   "metadata": {},
   "outputs": [
    {
     "name": "stdout",
     "output_type": "stream",
     "text": [
      "Counter({4: 2, 1: 1, 2: 1, 3: 1, 5: 1, 6: 1, 7: 1, 8: 1, 9: 1})\n"
     ]
    }
   ],
   "source": [
    "print(Counter(l)) #nos muestra cuantas veces nos aparece cada elemento de una lista"
   ]
  },
  {
   "cell_type": "code",
   "execution_count": 14,
   "id": "23180cc8",
   "metadata": {},
   "outputs": [
    {
     "name": "stdout",
     "output_type": "stream",
     "text": [
      "Counter({'o': 2, 'H': 1, 'l': 1, 'a': 1, ' ': 1, 'm': 1, 'u': 1, 'n': 1, 'd': 1})\n"
     ]
    }
   ],
   "source": [
    "p = 'Hola mundo'\n",
    "print(Counter(p))"
   ]
  },
  {
   "cell_type": "code",
   "execution_count": 15,
   "id": "cd16d0f3",
   "metadata": {},
   "outputs": [],
   "source": [
    "s = 'rojo azul verde amarillo rojo rojo azul verde rosa rosa negro'"
   ]
  },
  {
   "cell_type": "code",
   "execution_count": 18,
   "id": "2081092b",
   "metadata": {},
   "outputs": [
    {
     "data": {
      "text/plain": [
       "['rojo',\n",
       " 'azul',\n",
       " 'verde',\n",
       " 'amarillo',\n",
       " 'rojo',\n",
       " 'rojo',\n",
       " 'azul',\n",
       " 'verde',\n",
       " 'rosa',\n",
       " 'rosa',\n",
       " 'negro']"
      ]
     },
     "execution_count": 18,
     "metadata": {},
     "output_type": "execute_result"
    }
   ],
   "source": [
    "s2 = s.split()\n",
    "s2"
   ]
  },
  {
   "cell_type": "code",
   "execution_count": 20,
   "id": "f9cb262e",
   "metadata": {},
   "outputs": [
    {
     "data": {
      "text/plain": [
       "Counter({'rojo': 3,\n",
       "         'azul': 2,\n",
       "         'verde': 2,\n",
       "         'amarillo': 1,\n",
       "         'rosa': 2,\n",
       "         'negro': 1})"
      ]
     },
     "execution_count": 20,
     "metadata": {},
     "output_type": "execute_result"
    }
   ],
   "source": [
    "Counter(s2)"
   ]
  },
  {
   "cell_type": "code",
   "execution_count": 24,
   "id": "ab530112",
   "metadata": {},
   "outputs": [],
   "source": [
    "import datetime"
   ]
  },
  {
   "cell_type": "code",
   "execution_count": 25,
   "id": "0f371da5",
   "metadata": {},
   "outputs": [],
   "source": [
    "dt = datetime.datetime.now()"
   ]
  },
  {
   "cell_type": "code",
   "execution_count": 26,
   "id": "2fb76da4",
   "metadata": {},
   "outputs": [
    {
     "data": {
      "text/plain": [
       "datetime.datetime(2021, 11, 26, 20, 37, 38, 757010)"
      ]
     },
     "execution_count": 26,
     "metadata": {},
     "output_type": "execute_result"
    }
   ],
   "source": [
    "dt"
   ]
  },
  {
   "cell_type": "code",
   "execution_count": 27,
   "id": "d4cb281e",
   "metadata": {},
   "outputs": [
    {
     "name": "stdout",
     "output_type": "stream",
     "text": [
      "2021-11-26 20:37:38.757010\n"
     ]
    }
   ],
   "source": [
    "print(dt)"
   ]
  },
  {
   "cell_type": "code",
   "execution_count": 29,
   "id": "4cb069f3",
   "metadata": {},
   "outputs": [
    {
     "data": {
      "text/plain": [
       "2021"
      ]
     },
     "execution_count": 29,
     "metadata": {},
     "output_type": "execute_result"
    }
   ],
   "source": [
    "dt.year #esto son stributos del objeto dt\n",
    "        #un metodo xxx siempre debe estar acompañado por un (); xxx()\n",
    "        #si no es un atributo"
   ]
  },
  {
   "cell_type": "code",
   "execution_count": 30,
   "id": "6358e103",
   "metadata": {},
   "outputs": [
    {
     "data": {
      "text/plain": [
       "26"
      ]
     },
     "execution_count": 30,
     "metadata": {},
     "output_type": "execute_result"
    }
   ],
   "source": [
    "dt.day"
   ]
  },
  {
   "cell_type": "code",
   "execution_count": 31,
   "id": "4cdad0e1",
   "metadata": {},
   "outputs": [
    {
     "name": "stdout",
     "output_type": "stream",
     "text": [
      "26/11/2021\n"
     ]
    }
   ],
   "source": [
    "print(f'{dt.day}/{dt.month}/{dt.year}')"
   ]
  },
  {
   "cell_type": "code",
   "execution_count": 33,
   "id": "332c35eb",
   "metadata": {},
   "outputs": [
    {
     "name": "stdout",
     "output_type": "stream",
     "text": [
      "2000-01-01 00:00:00\n"
     ]
    }
   ],
   "source": [
    "dt = datetime.datetime(2000,1,1,0,0)\n",
    "print(dt)"
   ]
  },
  {
   "cell_type": "code",
   "execution_count": 1,
   "id": "8f95af40",
   "metadata": {},
   "outputs": [],
   "source": [
    "import math"
   ]
  },
  {
   "cell_type": "code",
   "execution_count": 2,
   "id": "a360c0ba",
   "metadata": {},
   "outputs": [
    {
     "data": {
      "text/plain": [
       "1"
      ]
     },
     "execution_count": 2,
     "metadata": {},
     "output_type": "execute_result"
    }
   ],
   "source": [
    "math.floor(1.35) #redondeo a la baja"
   ]
  },
  {
   "cell_type": "code",
   "execution_count": 3,
   "id": "221ed04a",
   "metadata": {},
   "outputs": [
    {
     "data": {
      "text/plain": [
       "2"
      ]
     },
     "execution_count": 3,
     "metadata": {},
     "output_type": "execute_result"
    }
   ],
   "source": [
    "math.ceil(1.35) #redondeo al alza"
   ]
  },
  {
   "cell_type": "code",
   "execution_count": 4,
   "id": "32cacf89",
   "metadata": {},
   "outputs": [
    {
     "data": {
      "text/plain": [
       "7.0"
      ]
     },
     "execution_count": 4,
     "metadata": {},
     "output_type": "execute_result"
    }
   ],
   "source": [
    "math.sqrt(49) "
   ]
  },
  {
   "cell_type": "code",
   "execution_count": 5,
   "id": "1543d1af",
   "metadata": {},
   "outputs": [
    {
     "data": {
      "text/plain": [
       "15.0"
      ]
     },
     "execution_count": 5,
     "metadata": {},
     "output_type": "execute_result"
    }
   ],
   "source": [
    "math.fsum([1,2,3,4,5]) #suma de elementos de suma"
   ]
  },
  {
   "cell_type": "code",
   "execution_count": 6,
   "id": "677280b7",
   "metadata": {},
   "outputs": [],
   "source": [
    "import random"
   ]
  },
  {
   "cell_type": "code",
   "execution_count": 7,
   "id": "06224787",
   "metadata": {},
   "outputs": [
    {
     "data": {
      "text/plain": [
       "0.5350785438211108"
      ]
     },
     "execution_count": 7,
     "metadata": {},
     "output_type": "execute_result"
    }
   ],
   "source": [
    "random.random()"
   ]
  },
  {
   "cell_type": "code",
   "execution_count": 8,
   "id": "c0d79cc1",
   "metadata": {},
   "outputs": [
    {
     "data": {
      "text/plain": [
       "2"
      ]
     },
     "execution_count": 8,
     "metadata": {},
     "output_type": "execute_result"
    }
   ],
   "source": [
    "random.randrange(1,9) #genera numeros aleatorios entre 1-9"
   ]
  },
  {
   "cell_type": "code",
   "execution_count": 9,
   "id": "23d8bb30",
   "metadata": {},
   "outputs": [
    {
     "data": {
      "text/plain": [
       "1"
      ]
     },
     "execution_count": 9,
     "metadata": {},
     "output_type": "execute_result"
    }
   ],
   "source": [
    "random.randrange(1,4)"
   ]
  },
  {
   "cell_type": "code",
   "execution_count": 10,
   "id": "fc09b479",
   "metadata": {},
   "outputs": [
    {
     "data": {
      "text/plain": [
       "[2, 23, 1, 2, 4, 2, 7, 3, 9, 8, 2, 45, 8, 5, 4, 5, 5]"
      ]
     },
     "execution_count": 10,
     "metadata": {},
     "output_type": "execute_result"
    }
   ],
   "source": [
    "lista = [1,2,3,4,5,2,7,8,5,8,2,4,9,5,23,45,2]\n",
    "random.shuffle(lista)\n",
    "lista"
   ]
  },
  {
   "cell_type": "code",
   "execution_count": null,
   "id": "678a413f",
   "metadata": {},
   "outputs": [],
   "source": []
  }
 ],
 "metadata": {
  "kernelspec": {
   "display_name": "Python 3 (ipykernel)",
   "language": "python",
   "name": "python3"
  },
  "language_info": {
   "codemirror_mode": {
    "name": "ipython",
    "version": 3
   },
   "file_extension": ".py",
   "mimetype": "text/x-python",
   "name": "python",
   "nbconvert_exporter": "python",
   "pygments_lexer": "ipython3",
   "version": "3.9.7"
  }
 },
 "nbformat": 4,
 "nbformat_minor": 5
}
