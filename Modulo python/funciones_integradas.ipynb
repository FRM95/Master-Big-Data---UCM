{
 "cells": [
  {
   "cell_type": "code",
   "execution_count": 1,
   "id": "fcae5490",
   "metadata": {},
   "outputs": [
    {
     "data": {
      "text/plain": [
       "'0x905'"
      ]
     },
     "execution_count": 1,
     "metadata": {},
     "output_type": "execute_result"
    }
   ],
   "source": [
    "hex(2309)"
   ]
  },
  {
   "cell_type": "code",
   "execution_count": 11,
   "id": "4fcfe1dc",
   "metadata": {},
   "outputs": [],
   "source": [
    "import math\n",
    "def funct(x):\n",
    "    return(math.sqrt(x))"
   ]
  },
  {
   "cell_type": "code",
   "execution_count": 13,
   "id": "16096a87",
   "metadata": {},
   "outputs": [
    {
     "data": {
      "text/plain": [
       "7.0"
      ]
     },
     "execution_count": 13,
     "metadata": {},
     "output_type": "execute_result"
    }
   ],
   "source": [
    "funct(349)"
   ]
  },
  {
   "cell_type": "code",
   "execution_count": 14,
   "id": "a196900f",
   "metadata": {},
   "outputs": [
    {
     "data": {
      "text/plain": [
       "12"
      ]
     },
     "execution_count": 14,
     "metadata": {},
     "output_type": "execute_result"
    }
   ],
   "source": [
    "abs(-12)"
   ]
  },
  {
   "cell_type": "code",
   "execution_count": 15,
   "id": "8d87d0ed",
   "metadata": {},
   "outputs": [
    {
     "data": {
      "text/plain": [
       "6"
      ]
     },
     "execution_count": 15,
     "metadata": {},
     "output_type": "execute_result"
    }
   ],
   "source": [
    "round(5.5)"
   ]
  },
  {
   "cell_type": "code",
   "execution_count": 17,
   "id": "cf34a513",
   "metadata": {},
   "outputs": [
    {
     "data": {
      "text/plain": [
       "5"
      ]
     },
     "execution_count": 17,
     "metadata": {},
     "output_type": "execute_result"
    }
   ],
   "source": [
    "round(5.49)"
   ]
  },
  {
   "cell_type": "code",
   "execution_count": null,
   "id": "56ec8a30",
   "metadata": {},
   "outputs": [],
   "source": []
  }
 ],
 "metadata": {
  "kernelspec": {
   "display_name": "Python 3 (ipykernel)",
   "language": "python",
   "name": "python3"
  },
  "language_info": {
   "codemirror_mode": {
    "name": "ipython",
    "version": 3
   },
   "file_extension": ".py",
   "mimetype": "text/x-python",
   "name": "python",
   "nbconvert_exporter": "python",
   "pygments_lexer": "ipython3",
   "version": "3.9.7"
  }
 },
 "nbformat": 4,
 "nbformat_minor": 5
}
