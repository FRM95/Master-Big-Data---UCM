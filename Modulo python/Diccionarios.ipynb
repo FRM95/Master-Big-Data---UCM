{
 "cells": [
  {
   "cell_type": "code",
   "execution_count": 1,
   "id": "d20b7112",
   "metadata": {},
   "outputs": [],
   "source": [
    "# esto es un JSON:\n",
    "x = '{ \"name\":\"John\", \"age\":30, \"city\":\"New York\"}'\n",
    "\n",
    "# esto es un diccionario:\n",
    "x1 = { \"name\":\"John\", \"age\":30, \"city\":\"New York\"}\n",
    "\n",
    "# un diccionario nos permite guardar datos de la manera clave:valor\n",
    "# podemos crear bases de datos con este tipo de dato\n",
    "# se suele trabajar con diccionarios y luego realizar un cast a JSON para convertir documentos"
   ]
  },
  {
   "cell_type": "code",
   "execution_count": 2,
   "id": "b59353ae",
   "metadata": {},
   "outputs": [
    {
     "data": {
      "text/plain": [
       "0"
      ]
     },
     "execution_count": 2,
     "metadata": {},
     "output_type": "execute_result"
    }
   ],
   "source": [
    "diccionario = {}\n",
    "len(diccionario)"
   ]
  },
  {
   "cell_type": "code",
   "execution_count": 3,
   "id": "3ed7f8ba",
   "metadata": {},
   "outputs": [
    {
     "data": {
      "text/plain": [
       "dict"
      ]
     },
     "execution_count": 3,
     "metadata": {},
     "output_type": "execute_result"
    }
   ],
   "source": [
    "type(diccionario)"
   ]
  },
  {
   "cell_type": "code",
   "execution_count": 5,
   "id": "5bd61295",
   "metadata": {},
   "outputs": [],
   "source": [
    "diccionario = {\n",
    "    'amarillo' : 'yellow',\n",
    "    'azul' : 'blue',\n",
    "    'verde' : 'green'\n",
    "}"
   ]
  },
  {
   "cell_type": "code",
   "execution_count": 6,
   "id": "c97e8896",
   "metadata": {},
   "outputs": [
    {
     "data": {
      "text/plain": [
       "3"
      ]
     },
     "execution_count": 6,
     "metadata": {},
     "output_type": "execute_result"
    }
   ],
   "source": [
    "len(diccionario)"
   ]
  },
  {
   "cell_type": "code",
   "execution_count": 7,
   "id": "965d5b60",
   "metadata": {},
   "outputs": [
    {
     "data": {
      "text/plain": [
       "'green'"
      ]
     },
     "execution_count": 7,
     "metadata": {},
     "output_type": "execute_result"
    }
   ],
   "source": [
    "diccionario['verde'] # devuelve el valor"
   ]
  },
  {
   "cell_type": "code",
   "execution_count": 9,
   "id": "970e7f0d",
   "metadata": {},
   "outputs": [
    {
     "ename": "KeyError",
     "evalue": "0",
     "output_type": "error",
     "traceback": [
      "\u001b[1;31m---------------------------------------------------------------------------\u001b[0m",
      "\u001b[1;31mKeyError\u001b[0m                                  Traceback (most recent call last)",
      "\u001b[1;32m~\\AppData\\Local\\Temp/ipykernel_1768/3188367675.py\u001b[0m in \u001b[0;36m<module>\u001b[1;34m\u001b[0m\n\u001b[1;32m----> 1\u001b[1;33m \u001b[0mdiccionario\u001b[0m\u001b[1;33m[\u001b[0m\u001b[1;36m0\u001b[0m\u001b[1;33m]\u001b[0m\u001b[1;33m\u001b[0m\u001b[1;33m\u001b[0m\u001b[0m\n\u001b[0m",
      "\u001b[1;31mKeyError\u001b[0m: 0"
     ]
    }
   ],
   "source": [
    "diccionario[0] # no permite acceder a posiciones de clave de esta manera (si la clave es un int, sí se puede)\n",
    "# para acceder a posiciones, se debe realizar un cast a lista y luego acceder a la posicion"
   ]
  },
  {
   "cell_type": "code",
   "execution_count": 12,
   "id": "f4aeefcd",
   "metadata": {},
   "outputs": [
    {
     "data": {
      "text/plain": [
       "{'amarillo': 'yellow', 'azul': 'blue', 'verde': 'green'}"
      ]
     },
     "execution_count": 12,
     "metadata": {},
     "output_type": "execute_result"
    }
   ],
   "source": [
    "colores = {\n",
    "    'amarillo' : 'yellow',\n",
    "    'azul' : 'blue',\n",
    "    'verde' : 'green'\n",
    "}\n",
    "colores"
   ]
  },
  {
   "cell_type": "code",
   "execution_count": 14,
   "id": "400ec88d",
   "metadata": {},
   "outputs": [
    {
     "data": {
      "text/plain": [
       "{'amarillo': 'yellow', 'azul': 'purple', 'verde': 'green'}"
      ]
     },
     "execution_count": 14,
     "metadata": {},
     "output_type": "execute_result"
    }
   ],
   "source": [
    "colores['azul'] = 'purple' #cambias el valor de la clave 'azul'\n",
    "colores"
   ]
  },
  {
   "cell_type": "code",
   "execution_count": 15,
   "id": "8869efcc",
   "metadata": {},
   "outputs": [
    {
     "data": {
      "text/plain": [
       "{'amarillo': 'yellow', 'verde': 'green'}"
      ]
     },
     "execution_count": 15,
     "metadata": {},
     "output_type": "execute_result"
    }
   ],
   "source": [
    "del(colores['azul']) #elimina la clave 'azul' y su valor\n",
    "colores"
   ]
  },
  {
   "cell_type": "code",
   "execution_count": 16,
   "id": "89ae68eb",
   "metadata": {},
   "outputs": [],
   "source": [
    "edades = {\n",
    "    'javier': 18,\n",
    "    'alice' : 21,\n",
    "    'bob' : 33\n",
    "}"
   ]
  },
  {
   "cell_type": "code",
   "execution_count": 18,
   "id": "0fa4a94c",
   "metadata": {},
   "outputs": [
    {
     "name": "stdout",
     "output_type": "stream",
     "text": [
      "javier\n",
      "alice\n",
      "bob\n"
     ]
    }
   ],
   "source": [
    "for clave in edades: #bucle for para indexar las CLAVES\n",
    "    print(clave)"
   ]
  },
  {
   "cell_type": "code",
   "execution_count": 19,
   "id": "521c3749",
   "metadata": {},
   "outputs": [
    {
     "name": "stdout",
     "output_type": "stream",
     "text": [
      "18\n",
      "21\n",
      "33\n"
     ]
    }
   ],
   "source": [
    "for clave in edades: #bucle for para indexar los valores\n",
    "    print(edades[clave])"
   ]
  },
  {
   "cell_type": "code",
   "execution_count": 20,
   "id": "2e554927",
   "metadata": {},
   "outputs": [
    {
     "name": "stdout",
     "output_type": "stream",
     "text": [
      "javier 18\n",
      "alice 21\n",
      "bob 33\n"
     ]
    }
   ],
   "source": [
    "for clave, valor in edades.items():\n",
    "    print(clave,valor)"
   ]
  },
  {
   "cell_type": "code",
   "execution_count": 31,
   "id": "7db731d5",
   "metadata": {},
   "outputs": [],
   "source": [
    "a = {\n",
    "    'nombre': 'Miwe',\n",
    "    'edad': 26\n",
    "}"
   ]
  },
  {
   "cell_type": "code",
   "execution_count": 32,
   "id": "9ecfdc3e",
   "metadata": {},
   "outputs": [],
   "source": [
    "alumnos = [] #si creamos una lista vacia y vamos añadiendo valores de tipo diccionario podremos buscar por posicion"
   ]
  },
  {
   "cell_type": "code",
   "execution_count": 33,
   "id": "5be6357f",
   "metadata": {},
   "outputs": [
    {
     "data": {
      "text/plain": [
       "[{'nombre': 'Miwe', 'edad': 26}]"
      ]
     },
     "execution_count": 33,
     "metadata": {},
     "output_type": "execute_result"
    }
   ],
   "source": [
    "alumnos.append(a)#añadimos a la pos(0) con append ya que la lista fue creada anteriormente\n",
    "alumnos"
   ]
  },
  {
   "cell_type": "code",
   "execution_count": 34,
   "id": "886b8053",
   "metadata": {},
   "outputs": [],
   "source": [
    "a2 = {\n",
    "    'nombre': 'Elio',\n",
    "    'edad': 25\n",
    "}"
   ]
  },
  {
   "cell_type": "code",
   "execution_count": 35,
   "id": "a33c97d7",
   "metadata": {},
   "outputs": [
    {
     "data": {
      "text/plain": [
       "[{'nombre': 'Miwe', 'edad': 26}, {'nombre': 'Elio', 'edad': 25}]"
      ]
     },
     "execution_count": 35,
     "metadata": {},
     "output_type": "execute_result"
    }
   ],
   "source": [
    "alumnos.append(a2) #añadimos a la pos(0)+1 con append\n",
    "alumnos "
   ]
  },
  {
   "cell_type": "code",
   "execution_count": 36,
   "id": "afcac961",
   "metadata": {},
   "outputs": [
    {
     "data": {
      "text/plain": [
       "{'nombre': 'Miwe', 'edad': 26}"
      ]
     },
     "execution_count": 36,
     "metadata": {},
     "output_type": "execute_result"
    }
   ],
   "source": [
    "alumnos[0] #posicion 0"
   ]
  },
  {
   "cell_type": "code",
   "execution_count": 42,
   "id": "afa65648",
   "metadata": {},
   "outputs": [
    {
     "data": {
      "text/plain": [
       "25"
      ]
     },
     "execution_count": 42,
     "metadata": {},
     "output_type": "execute_result"
    }
   ],
   "source": [
    "alumnos[1]['edad'] #posicion 1, edad de Elio"
   ]
  },
  {
   "cell_type": "code",
   "execution_count": 40,
   "id": "b6178d35",
   "metadata": {},
   "outputs": [
    {
     "data": {
      "text/plain": [
       "[{'nombre': 'Miwe', 'edad': 26}, {'nombre': 'Elio', 'edad': 25}]"
      ]
     },
     "execution_count": 40,
     "metadata": {},
     "output_type": "execute_result"
    }
   ],
   "source": [
    "alumnosX = [a,a2] #se puede tambien crear los elemenos a y a2 previamente y luego crear una lista con estos elementos\n",
    "alumnosX"
   ]
  },
  {
   "cell_type": "code",
   "execution_count": null,
   "id": "50a975f8",
   "metadata": {},
   "outputs": [],
   "source": []
  }
 ],
 "metadata": {
  "kernelspec": {
   "display_name": "Python 3 (ipykernel)",
   "language": "python",
   "name": "python3"
  },
  "language_info": {
   "codemirror_mode": {
    "name": "ipython",
    "version": 3
   },
   "file_extension": ".py",
   "mimetype": "text/x-python",
   "name": "python",
   "nbconvert_exporter": "python",
   "pygments_lexer": "ipython3",
   "version": "3.9.7"
  }
 },
 "nbformat": 4,
 "nbformat_minor": 5
}
