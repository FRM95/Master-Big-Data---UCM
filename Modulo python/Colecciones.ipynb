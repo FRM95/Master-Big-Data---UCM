{
 "cells": [
  {
   "cell_type": "code",
   "execution_count": 1,
   "id": "4b55e08b",
   "metadata": {},
   "outputs": [],
   "source": [
    "tupla = [100, 'hola', [2,32]]"
   ]
  },
  {
   "cell_type": "code",
   "execution_count": 2,
   "id": "7aac1b29",
   "metadata": {},
   "outputs": [
    {
     "data": {
      "text/plain": [
       "32"
      ]
     },
     "execution_count": 2,
     "metadata": {},
     "output_type": "execute_result"
    }
   ],
   "source": [
    "tupla[2][1] #obtener valor de una posicion"
   ]
  },
  {
   "cell_type": "code",
   "execution_count": 3,
   "id": "af02ff4f",
   "metadata": {},
   "outputs": [
    {
     "data": {
      "text/plain": [
       "2"
      ]
     },
     "execution_count": 3,
     "metadata": {},
     "output_type": "execute_result"
    }
   ],
   "source": [
    "tupla.index([2,32]) #obtener posicion de un valor"
   ]
  },
  {
   "cell_type": "code",
   "execution_count": 4,
   "id": "68d7f904",
   "metadata": {},
   "outputs": [],
   "source": [
    "tupla = [100,'hola',100,100,[1,2,3],3.14]"
   ]
  },
  {
   "cell_type": "code",
   "execution_count": 5,
   "id": "c749e1dc",
   "metadata": {},
   "outputs": [
    {
     "data": {
      "text/plain": [
       "3"
      ]
     },
     "execution_count": 5,
     "metadata": {},
     "output_type": "execute_result"
    }
   ],
   "source": [
    "tupla.count(100) #numero de veces que se repite un valor"
   ]
  },
  {
   "cell_type": "code",
   "execution_count": 8,
   "id": "dfc8f1b7",
   "metadata": {},
   "outputs": [],
   "source": [
    "#conjuntos\n",
    "conjunto = set() #conjunto vacio\n",
    "conjunto = {1,2,3} #conjunto inicializado"
   ]
  },
  {
   "cell_type": "code",
   "execution_count": 9,
   "id": "ef653f11",
   "metadata": {},
   "outputs": [
    {
     "data": {
      "text/plain": [
       "{1, 2, 3}"
      ]
     },
     "execution_count": 9,
     "metadata": {},
     "output_type": "execute_result"
    }
   ],
   "source": [
    "conjunto"
   ]
  },
  {
   "cell_type": "code",
   "execution_count": 14,
   "id": "9a56931a",
   "metadata": {},
   "outputs": [
    {
     "data": {
      "text/plain": [
       "{0, 1, 2, 3, 4}"
      ]
     },
     "execution_count": 14,
     "metadata": {},
     "output_type": "execute_result"
    }
   ],
   "source": [
    "conjunto.add(4) #no son ordenados, sin embargo al imprimir el valor te los ordena\n",
    "conjunto.add(0)\n",
    "conjunto"
   ]
  },
  {
   "cell_type": "code",
   "execution_count": 17,
   "id": "15ec9b74",
   "metadata": {},
   "outputs": [
    {
     "data": {
      "text/plain": [
       "True"
      ]
     },
     "execution_count": 17,
     "metadata": {},
     "output_type": "execute_result"
    }
   ],
   "source": [
    "conjuntoA = {'Javier','Bob','Alice'}\n",
    "'Miwe' in conjuntoA\n",
    "'Bob' in conjuntoA"
   ]
  },
  {
   "cell_type": "code",
   "execution_count": 21,
   "id": "2cda57ce",
   "metadata": {},
   "outputs": [
    {
     "data": {
      "text/plain": [
       "{'Alice', 'Bob', 'Javier'}"
      ]
     },
     "execution_count": 21,
     "metadata": {},
     "output_type": "execute_result"
    }
   ],
   "source": [
    "conjuntoA = {'Javier','Bob','Alice','Javier','Javier'}\n",
    "conjuntoA"
   ]
  },
  {
   "cell_type": "code",
   "execution_count": 24,
   "id": "36259358",
   "metadata": {},
   "outputs": [
    {
     "data": {
      "text/plain": [
       "[1, 2, 3]"
      ]
     },
     "execution_count": 24,
     "metadata": {},
     "output_type": "execute_result"
    }
   ],
   "source": [
    "#Para remover elementos de una lista se puede:\n",
    "#realizar bucle o rewlizar un cast de lista a conjunto \n",
    "\n",
    "lista = [1,2,3,3,2,1]\n",
    "list(set(lista)) #set(lista) -> cast a conjunto, lista(set(lista)) -> cast de nuevo a lista"
   ]
  },
  {
   "cell_type": "code",
   "execution_count": 28,
   "id": "67b5258f",
   "metadata": {},
   "outputs": [
    {
     "data": {
      "text/plain": [
       "{' ',\n",
       " 'E',\n",
       " 'R',\n",
       " 'a',\n",
       " 'b',\n",
       " 'd',\n",
       " 'e',\n",
       " 'i',\n",
       " 'l',\n",
       " 'n',\n",
       " 'o',\n",
       " 'p',\n",
       " 'q',\n",
       " 'r',\n",
       " 's',\n",
       " 't',\n",
       " 'u'}"
      ]
     },
     "execution_count": 28,
     "metadata": {},
     "output_type": "execute_result"
    }
   ],
   "source": [
    "string = 'El perro de san Roque no tiene rabo'\n",
    "set(string)"
   ]
  },
  {
   "cell_type": "code",
   "execution_count": 29,
   "id": "097aa7f7",
   "metadata": {},
   "outputs": [
    {
     "data": {
      "text/plain": [
       "17"
      ]
     },
     "execution_count": 29,
     "metadata": {},
     "output_type": "execute_result"
    }
   ],
   "source": [
    "len(set(string))"
   ]
  },
  {
   "cell_type": "code",
   "execution_count": null,
   "id": "c608c163",
   "metadata": {},
   "outputs": [],
   "source": []
  }
 ],
 "metadata": {
  "kernelspec": {
   "display_name": "Python 3 (ipykernel)",
   "language": "python",
   "name": "python3"
  },
  "language_info": {
   "codemirror_mode": {
    "name": "ipython",
    "version": 3
   },
   "file_extension": ".py",
   "mimetype": "text/x-python",
   "name": "python",
   "nbconvert_exporter": "python",
   "pygments_lexer": "ipython3",
   "version": "3.9.7"
  }
 },
 "nbformat": 4,
 "nbformat_minor": 5
}
