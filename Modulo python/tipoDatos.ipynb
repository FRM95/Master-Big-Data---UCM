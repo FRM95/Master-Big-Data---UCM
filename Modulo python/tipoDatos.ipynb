{
 "cells": [
  {
   "cell_type": "markdown",
   "id": "f9a3633c",
   "metadata": {},
   "source": [
    "## Modulo  Python 19/11/2021 Tipos de datos "
   ]
  },
  {
   "cell_type": "code",
   "execution_count": 1,
   "id": "e86cc04d",
   "metadata": {},
   "outputs": [],
   "source": [
    "#variable (no se define el tipo)\n",
    "tipoCoche = 'tesla'\n",
    "tipoCoche[3] #accedes a la posicion 3 (empieza desde 0)\n",
    "tipoCoche[-1] #accedes a la ultima posicion\n",
    "#constante\n",
    "PI = 3.14\n",
    "#una operacion asignada a una variable ejecuta la operacion\n",
    "suma = 1+2\n",
    "#potencias de numeros\n",
    "potencia = 2**3"
   ]
  },
  {
   "cell_type": "code",
   "execution_count": 2,
   "id": "8f59c84e",
   "metadata": {},
   "outputs": [
    {
     "data": {
      "text/plain": [
       "8"
      ]
     },
     "execution_count": 2,
     "metadata": {},
     "output_type": "execute_result"
    }
   ],
   "source": [
    "#conocer el tipo de una variable\n",
    "type(tipoCoche)\n",
    "type(PI)\n",
    "suma\n",
    "potencia"
   ]
  },
  {
   "cell_type": "code",
   "execution_count": 3,
   "id": "089d108d",
   "metadata": {},
   "outputs": [
    {
     "name": "stdout",
     "output_type": "stream",
     "text": [
      "Hola Mundo\n",
      "Hola\n",
      "Mundo\n",
      "Hola\\nMundo\n"
     ]
    }
   ],
   "source": [
    "print('Hola Mundo')\n",
    "print('Hola\\nMundo')\n",
    "print(r'Hola\\nMundo') # r = cadena de char de tipo raw"
   ]
  },
  {
   "cell_type": "code",
   "execution_count": 4,
   "id": "c44c6923",
   "metadata": {},
   "outputs": [
    {
     "data": {
      "text/plain": [
       "'te'"
      ]
     },
     "execution_count": 4,
     "metadata": {},
     "output_type": "execute_result"
    }
   ],
   "source": [
    "tipoCoche[3]\n",
    "tipoCoche[-1]\n",
    "tipoCoche[0:2] #tesla -> 'te' coge la posicion 0 y 1"
   ]
  },
  {
   "cell_type": "code",
   "execution_count": 5,
   "id": "308da3c9",
   "metadata": {},
   "outputs": [
    {
     "data": {
      "text/plain": [
       "'Tsssesla'"
      ]
     },
     "execution_count": 5,
     "metadata": {},
     "output_type": "execute_result"
    }
   ],
   "source": [
    "tipoCoche\n",
    "'Tsss' + tipoCoche[1:]"
   ]
  },
  {
   "cell_type": "code",
   "execution_count": 6,
   "id": "d1116e7f",
   "metadata": {},
   "outputs": [
    {
     "data": {
      "text/plain": [
       "3"
      ]
     },
     "execution_count": 6,
     "metadata": {},
     "output_type": "execute_result"
    }
   ],
   "source": [
    "array = [1,2,3] #en python a los arrays se les llama listas\n",
    "len(array)"
   ]
  },
  {
   "cell_type": "code",
   "execution_count": 7,
   "id": "1b306684",
   "metadata": {},
   "outputs": [
    {
     "data": {
      "text/plain": [
       "[1, 2, -3, 'hola', ['x', 'd']]"
      ]
     },
     "execution_count": 7,
     "metadata": {},
     "output_type": "execute_result"
    }
   ],
   "source": [
    "arrayDeVariosTipos = [1,2,-3,'hola',['x','d']] #puedes crear arrays de tipos distintos\n",
    "arrayDeVariosTipos"
   ]
  },
  {
   "cell_type": "code",
   "execution_count": 8,
   "id": "b03cfd05",
   "metadata": {},
   "outputs": [
    {
     "data": {
      "text/plain": [
       "'x'"
      ]
     },
     "execution_count": 8,
     "metadata": {},
     "output_type": "execute_result"
    }
   ],
   "source": [
    "arrayDeVariosTipos[4][0]"
   ]
  },
  {
   "cell_type": "code",
   "execution_count": 9,
   "id": "655112e1",
   "metadata": {},
   "outputs": [],
   "source": [
    "frutas = ['fresa', 'pera', 'uva']"
   ]
  },
  {
   "cell_type": "code",
   "execution_count": 10,
   "id": "041f7c8a",
   "metadata": {},
   "outputs": [
    {
     "data": {
      "text/plain": [
       "['fresa', 'pera', 'uva', 'platano']"
      ]
     },
     "execution_count": 10,
     "metadata": {},
     "output_type": "execute_result"
    }
   ],
   "source": [
    "frutas.append('platano')\n",
    "frutas"
   ]
  },
  {
   "cell_type": "code",
   "execution_count": 11,
   "id": "5a1de18e",
   "metadata": {},
   "outputs": [
    {
     "data": {
      "text/plain": [
       "['d', 'f']"
      ]
     },
     "execution_count": 11,
     "metadata": {},
     "output_type": "execute_result"
    }
   ],
   "source": [
    "letras = ['a', 'b', 'c', 'd', 'e', 'f']\n",
    "letras[:3] = []\n",
    "letras\n",
    "del letras[1]\n",
    "letras"
   ]
  },
  {
   "cell_type": "code",
   "execution_count": 12,
   "id": "fef30b04",
   "metadata": {},
   "outputs": [
    {
     "data": {
      "text/plain": [
       "0"
      ]
     },
     "execution_count": 12,
     "metadata": {},
     "output_type": "execute_result"
    }
   ],
   "source": [
    "letras.index('d') #devuelve primera posicion del elemento"
   ]
  },
  {
   "cell_type": "code",
   "execution_count": 13,
   "id": "c63aa1d4",
   "metadata": {},
   "outputs": [
    {
     "data": {
      "text/plain": [
       "1"
      ]
     },
     "execution_count": 13,
     "metadata": {},
     "output_type": "execute_result"
    }
   ],
   "source": [
    "letras.count('d') #devuelve numero de veces que aparece el elemento"
   ]
  },
  {
   "cell_type": "code",
   "execution_count": 14,
   "id": "06e06bb0",
   "metadata": {},
   "outputs": [
    {
     "data": {
      "text/plain": [
       "['d', 'f', 'a']"
      ]
     },
     "execution_count": 14,
     "metadata": {},
     "output_type": "execute_result"
    }
   ],
   "source": [
    "letras.insert(3,'a') #inserta elemento a en la posicion 3, pero al ser el array\n",
    "                     # de tamaño = 2 con posiciones [d,f] , inserta en las posiciones\n",
    "                     # anteriores el valor a\n",
    "letras"
   ]
  },
  {
   "cell_type": "code",
   "execution_count": 15,
   "id": "544aa8a5",
   "metadata": {},
   "outputs": [
    {
     "data": {
      "text/plain": [
       "['d', 'f', 'x', 'a']"
      ]
     },
     "execution_count": 15,
     "metadata": {},
     "output_type": "execute_result"
    }
   ],
   "source": [
    "letras.insert(2,'x') #inserta elemento x en la posicion 2\n",
    "letras"
   ]
  },
  {
   "cell_type": "code",
   "execution_count": 16,
   "id": "724123ca",
   "metadata": {},
   "outputs": [
    {
     "data": {
      "text/plain": [
       "['a', 'x', 'f', 'd']"
      ]
     },
     "execution_count": 16,
     "metadata": {},
     "output_type": "execute_result"
    }
   ],
   "source": [
    "letras.reverse() #invierte el orden de los elementos\n",
    "letras"
   ]
  },
  {
   "cell_type": "code",
   "execution_count": 17,
   "id": "a07e0138",
   "metadata": {},
   "outputs": [
    {
     "data": {
      "text/plain": [
       "['a', 'd', 'f', 'x']"
      ]
     },
     "execution_count": 17,
     "metadata": {},
     "output_type": "execute_result"
    }
   ],
   "source": [
    "letras.sort()#lo ordena alfabeticamente, de menor a mayor..\n",
    "letras"
   ]
  },
  {
   "cell_type": "code",
   "execution_count": 19,
   "id": "34e31a48",
   "metadata": {},
   "outputs": [
    {
     "data": {
      "text/plain": [
       "'HolaHolaHola'"
      ]
     },
     "execution_count": 19,
     "metadata": {},
     "output_type": "execute_result"
    }
   ],
   "source": [
    "lista = ['Hola']\n",
    "caracter = 'Hola'"
   ]
  },
  {
   "cell_type": "code",
   "execution_count": 20,
   "id": "591257f2",
   "metadata": {},
   "outputs": [
    {
     "data": {
      "text/plain": [
       "['Hola', 'Hola', 'Hola']"
      ]
     },
     "execution_count": 20,
     "metadata": {},
     "output_type": "execute_result"
    }
   ],
   "source": [
    "lista*3"
   ]
  },
  {
   "cell_type": "code",
   "execution_count": 21,
   "id": "a5571c3f",
   "metadata": {},
   "outputs": [
    {
     "data": {
      "text/plain": [
       "'HolaHolaHola'"
      ]
     },
     "execution_count": 21,
     "metadata": {},
     "output_type": "execute_result"
    }
   ],
   "source": [
    "caracter*3"
   ]
  },
  {
   "cell_type": "code",
   "execution_count": 22,
   "id": "43b38227",
   "metadata": {},
   "outputs": [
    {
     "data": {
      "text/plain": [
       "False"
      ]
     },
     "execution_count": 22,
     "metadata": {},
     "output_type": "execute_result"
    }
   ],
   "source": [
    "'o' in letras #devuelve true o false si el caracter 'o' esta en el objeto letras\n",
    "#True o False, se debe escribir la primera con mayuscula"
   ]
  },
  {
   "cell_type": "code",
   "execution_count": 23,
   "id": "84f74af0",
   "metadata": {},
   "outputs": [
    {
     "name": "stdout",
     "output_type": "stream",
     "text": [
      "a\n",
      "d\n",
      "f\n",
      "x\n"
     ]
    }
   ],
   "source": [
    "for a in letras:\n",
    "    print(a)"
   ]
  },
  {
   "cell_type": "code",
   "execution_count": null,
   "id": "aa69de7b",
   "metadata": {},
   "outputs": [],
   "source": []
  }
 ],
 "metadata": {
  "kernelspec": {
   "display_name": "Python 3 (ipykernel)",
   "language": "python",
   "name": "python3"
  },
  "language_info": {
   "codemirror_mode": {
    "name": "ipython",
    "version": 3
   },
   "file_extension": ".py",
   "mimetype": "text/x-python",
   "name": "python",
   "nbconvert_exporter": "python",
   "pygments_lexer": "ipython3",
   "version": "3.9.7"
  }
 },
 "nbformat": 4,
 "nbformat_minor": 5
}
