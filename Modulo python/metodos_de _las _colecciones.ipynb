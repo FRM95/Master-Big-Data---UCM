{
 "cells": [
  {
   "cell_type": "code",
   "execution_count": 2,
   "id": "d143403a",
   "metadata": {},
   "outputs": [
    {
     "data": {
      "text/plain": [
       "'HOLA MUNDO'"
      ]
     },
     "execution_count": 2,
     "metadata": {},
     "output_type": "execute_result"
    }
   ],
   "source": [
    " \"Hola Mundo\".upper() #.lower()"
   ]
  },
  {
   "cell_type": "code",
   "execution_count": 3,
   "id": "ef8bcb90",
   "metadata": {},
   "outputs": [
    {
     "data": {
      "text/plain": [
       "'Hola mundo'"
      ]
     },
     "execution_count": 3,
     "metadata": {},
     "output_type": "execute_result"
    }
   ],
   "source": [
    "\"hola mundo\".capitalize()"
   ]
  },
  {
   "cell_type": "code",
   "execution_count": 4,
   "id": "882153e6",
   "metadata": {},
   "outputs": [
    {
     "data": {
      "text/plain": [
       "'Hola Mundo'"
      ]
     },
     "execution_count": 4,
     "metadata": {},
     "output_type": "execute_result"
    }
   ],
   "source": [
    "'hola mundo'.title()"
   ]
  },
  {
   "cell_type": "code",
   "execution_count": 7,
   "id": "41794da0",
   "metadata": {},
   "outputs": [
    {
     "data": {
      "text/plain": [
       "2"
      ]
     },
     "execution_count": 7,
     "metadata": {},
     "output_type": "execute_result"
    }
   ],
   "source": [
    "'Hola Mundo'.count('o') #conteo de caracteres"
   ]
  },
  {
   "cell_type": "code",
   "execution_count": 8,
   "id": "4e998d6b",
   "metadata": {},
   "outputs": [
    {
     "data": {
      "text/plain": [
       "5"
      ]
     },
     "execution_count": 8,
     "metadata": {},
     "output_type": "execute_result"
    }
   ],
   "source": [
    "'Hola mundo'.find('mundo') #posicion en la que empieza el string mundo (empieza en 0, no como R)"
   ]
  },
  {
   "cell_type": "code",
   "execution_count": 9,
   "id": "f650450a",
   "metadata": {},
   "outputs": [
    {
     "data": {
      "text/plain": [
       "23"
      ]
     },
     "execution_count": 9,
     "metadata": {},
     "output_type": "execute_result"
    }
   ],
   "source": [
    "'Hola mundo mundo mundo mundo'.rfind('mundo') #posicion en la que empieza el string mundo pero por la derecha"
   ]
  },
  {
   "cell_type": "code",
   "execution_count": 11,
   "id": "764aefc0",
   "metadata": {},
   "outputs": [
    {
     "data": {
      "text/plain": [
       "True"
      ]
     },
     "execution_count": 11,
     "metadata": {},
     "output_type": "execute_result"
    }
   ],
   "source": [
    "c = '100'\n",
    "c.isdigit()"
   ]
  },
  {
   "cell_type": "code",
   "execution_count": 12,
   "id": "ab017bc7",
   "metadata": {},
   "outputs": [
    {
     "data": {
      "text/plain": [
       "False"
      ]
     },
     "execution_count": 12,
     "metadata": {},
     "output_type": "execute_result"
    }
   ],
   "source": [
    "c1 = 'l00' #ya que no es un 100, es un l00 una letra \"l\" y dos \"o\"\n",
    "c1.isdigit()"
   ]
  },
  {
   "cell_type": "code",
   "execution_count": 13,
   "id": "0bb7e316",
   "metadata": {},
   "outputs": [
    {
     "data": {
      "text/plain": [
       "True"
      ]
     },
     "execution_count": 13,
     "metadata": {},
     "output_type": "execute_result"
    }
   ],
   "source": [
    "'abc123'.isalnum() # es cierto que esta compuesto de letras o numeros"
   ]
  },
  {
   "cell_type": "code",
   "execution_count": 15,
   "id": "f245d955",
   "metadata": {},
   "outputs": [
    {
     "data": {
      "text/plain": [
       "False"
      ]
     },
     "execution_count": 15,
     "metadata": {},
     "output_type": "execute_result"
    }
   ],
   "source": [
    "'abc123'.isalpha() # es cierto si esta compuesto solo por letras"
   ]
  },
  {
   "cell_type": "code",
   "execution_count": 18,
   "id": "f752dedc",
   "metadata": {},
   "outputs": [
    {
     "data": {
      "text/plain": [
       "True"
      ]
     },
     "execution_count": 18,
     "metadata": {},
     "output_type": "execute_result"
    }
   ],
   "source": [
    "c = 'Hola Mundo mundo mundo mundo'\n",
    "c.startswith('H')"
   ]
  },
  {
   "cell_type": "code",
   "execution_count": 19,
   "id": "70074ecd",
   "metadata": {},
   "outputs": [
    {
     "data": {
      "text/plain": [
       "['Hola', 'Mundo', 'mundo', 'mundo', 'mundo']"
      ]
     },
     "execution_count": 19,
     "metadata": {},
     "output_type": "execute_result"
    }
   ],
   "source": [
    "c.split() # transforma un string a una lista, importante en entrevistas usando como delimitador el espacio \" \""
   ]
  },
  {
   "cell_type": "code",
   "execution_count": 20,
   "id": "9a83950d",
   "metadata": {},
   "outputs": [
    {
     "data": {
      "text/plain": [
       "{'Hola', 'Mundo', 'mundo'}"
      ]
     },
     "execution_count": 20,
     "metadata": {},
     "output_type": "execute_result"
    }
   ],
   "source": [
    "set(c.split()) # te coge las palabras sin contar las repeticiones\n",
    "               # lo que ha hecho es ponerlo en formato lista y realizar un set sobre la lista"
   ]
  },
  {
   "cell_type": "code",
   "execution_count": 22,
   "id": "48f770f1",
   "metadata": {},
   "outputs": [
    {
     "data": {
      "text/plain": [
       "['aaa', 'bbb', 'ccc']"
      ]
     },
     "execution_count": 22,
     "metadata": {},
     "output_type": "execute_result"
    }
   ],
   "source": [
    "c = 'aaa;bbb;ccc'\n",
    "c.split(';')"
   ]
  },
  {
   "cell_type": "code",
   "execution_count": 24,
   "id": "ef95f943",
   "metadata": {},
   "outputs": [
    {
     "data": {
      "text/plain": [
       "'H,o,l,a, ,m,u,n,d,o'"
      ]
     },
     "execution_count": 24,
     "metadata": {},
     "output_type": "execute_result"
    }
   ],
   "source": [
    "c = 'Hola mundo'\n",
    "','.join(c) #inserta ',' entre cada uno de los caracteres"
   ]
  },
  {
   "cell_type": "code",
   "execution_count": 26,
   "id": "d08110b4",
   "metadata": {},
   "outputs": [
    {
     "name": "stdout",
     "output_type": "stream",
     "text": [
      "          Hola mundo    \n"
     ]
    }
   ],
   "source": [
    "c = '          Hola mundo    '\n",
    "print(c)"
   ]
  },
  {
   "cell_type": "code",
   "execution_count": 27,
   "id": "8b2870bc",
   "metadata": {},
   "outputs": [
    {
     "name": "stdout",
     "output_type": "stream",
     "text": [
      "...          Hola mundo    ...\n"
     ]
    }
   ],
   "source": [
    "print(f'...{c}...') #con esto puedes ver si hay espacios"
   ]
  },
  {
   "cell_type": "code",
   "execution_count": 28,
   "id": "edd3fe9b",
   "metadata": {},
   "outputs": [
    {
     "data": {
      "text/plain": [
       "'Hola mundo'"
      ]
     },
     "execution_count": 28,
     "metadata": {},
     "output_type": "execute_result"
    }
   ],
   "source": [
    "c.strip() #elimina los espacios de alante y atras"
   ]
  },
  {
   "cell_type": "code",
   "execution_count": 29,
   "id": "783581c0",
   "metadata": {},
   "outputs": [
    {
     "data": {
      "text/plain": [
       "'Hxla mundx'"
      ]
     },
     "execution_count": 29,
     "metadata": {},
     "output_type": "execute_result"
    }
   ],
   "source": [
    "c = 'Hola mundo'\n",
    "c.replace('o','x')"
   ]
  },
  {
   "cell_type": "code",
   "execution_count": 30,
   "id": "88b693fe",
   "metadata": {},
   "outputs": [
    {
     "data": {
      "text/plain": [
       "[]"
      ]
     },
     "execution_count": 30,
     "metadata": {},
     "output_type": "execute_result"
    }
   ],
   "source": [
    "#METODOS ASOCIADOS A LISTAS\n",
    "lista = [1,2,3]\n",
    "lista.append(4)\n",
    "lista.clear()\n",
    "lista"
   ]
  },
  {
   "cell_type": "code",
   "execution_count": 31,
   "id": "1d69ca6e",
   "metadata": {},
   "outputs": [],
   "source": [
    "l1 = [1,2,3]\n",
    "l2 = [4,5,6]"
   ]
  },
  {
   "cell_type": "code",
   "execution_count": 32,
   "id": "6d965903",
   "metadata": {},
   "outputs": [],
   "source": [
    "l1.extend(l2) #concatenacion de listas, añade a l1 los valores de l2 por el final"
   ]
  },
  {
   "cell_type": "code",
   "execution_count": 33,
   "id": "79ec0d50",
   "metadata": {},
   "outputs": [
    {
     "data": {
      "text/plain": [
       "[1, 2, 3, 4, 5, 6]"
      ]
     },
     "execution_count": 33,
     "metadata": {},
     "output_type": "execute_result"
    }
   ],
   "source": [
    "l1"
   ]
  },
  {
   "cell_type": "code",
   "execution_count": 34,
   "id": "d53ab184",
   "metadata": {},
   "outputs": [
    {
     "data": {
      "text/plain": [
       "[4, 5, 6]"
      ]
     },
     "execution_count": 34,
     "metadata": {},
     "output_type": "execute_result"
    }
   ],
   "source": [
    "l2"
   ]
  },
  {
   "cell_type": "code",
   "execution_count": 35,
   "id": "bdcea8db",
   "metadata": {},
   "outputs": [
    {
     "data": {
      "text/plain": [
       "[6, 5, 4, 3, 2, 1]"
      ]
     },
     "execution_count": 35,
     "metadata": {},
     "output_type": "execute_result"
    }
   ],
   "source": [
    "l1.reverse()\n",
    "l1"
   ]
  },
  {
   "cell_type": "code",
   "execution_count": 36,
   "id": "64b3b65b",
   "metadata": {},
   "outputs": [
    {
     "data": {
      "text/plain": [
       "[-9, -2, 3, 5, 8, 10]"
      ]
     },
     "execution_count": 36,
     "metadata": {},
     "output_type": "execute_result"
    }
   ],
   "source": [
    "l3 = [3,5,8,-9,-2,10]\n",
    "l3.sort()\n",
    "l3"
   ]
  },
  {
   "cell_type": "code",
   "execution_count": 1,
   "id": "f0c1f8a3",
   "metadata": {},
   "outputs": [],
   "source": [
    "#conjuntos es set\n",
    "c = set()"
   ]
  },
  {
   "cell_type": "code",
   "execution_count": 2,
   "id": "98b2adb5",
   "metadata": {},
   "outputs": [],
   "source": [
    "c.add(1)\n",
    "c.add(2)\n",
    "c.add(3)"
   ]
  },
  {
   "cell_type": "code",
   "execution_count": 3,
   "id": "55f01264",
   "metadata": {},
   "outputs": [
    {
     "data": {
      "text/plain": [
       "{1, 2, 3}"
      ]
     },
     "execution_count": 3,
     "metadata": {},
     "output_type": "execute_result"
    }
   ],
   "source": [
    "c"
   ]
  },
  {
   "cell_type": "code",
   "execution_count": 4,
   "id": "12afa923",
   "metadata": {},
   "outputs": [],
   "source": [
    "c.discard(2)"
   ]
  },
  {
   "cell_type": "code",
   "execution_count": 5,
   "id": "a304062a",
   "metadata": {},
   "outputs": [
    {
     "data": {
      "text/plain": [
       "{1, 3}"
      ]
     },
     "execution_count": 5,
     "metadata": {},
     "output_type": "execute_result"
    }
   ],
   "source": [
    "c"
   ]
  },
  {
   "cell_type": "code",
   "execution_count": 7,
   "id": "70d3f5d8",
   "metadata": {},
   "outputs": [
    {
     "data": {
      "text/plain": [
       "{1, 3}"
      ]
     },
     "execution_count": 7,
     "metadata": {},
     "output_type": "execute_result"
    }
   ],
   "source": [
    "c2 = c.copy()\n",
    "c2"
   ]
  },
  {
   "cell_type": "code",
   "execution_count": 8,
   "id": "94db9902",
   "metadata": {},
   "outputs": [
    {
     "data": {
      "text/plain": [
       "set()"
      ]
     },
     "execution_count": 8,
     "metadata": {},
     "output_type": "execute_result"
    }
   ],
   "source": [
    "c2.clear()\n",
    "c2"
   ]
  },
  {
   "cell_type": "code",
   "execution_count": 11,
   "id": "5baf6b28",
   "metadata": {},
   "outputs": [],
   "source": [
    "c1 = {1,2,3}\n",
    "c2 = {3,4,5}\n",
    "c3 = {-1,99}"
   ]
  },
  {
   "cell_type": "code",
   "execution_count": 12,
   "id": "86cbb89c",
   "metadata": {},
   "outputs": [
    {
     "data": {
      "text/plain": [
       "False"
      ]
     },
     "execution_count": 12,
     "metadata": {},
     "output_type": "execute_result"
    }
   ],
   "source": [
    "c1.isdisjoint(c2) #c1 es disjunto de c2? disjunto cuando no comparten elementos"
   ]
  },
  {
   "cell_type": "code",
   "execution_count": 13,
   "id": "b789c06d",
   "metadata": {},
   "outputs": [
    {
     "data": {
      "text/plain": [
       "True"
      ]
     },
     "execution_count": 13,
     "metadata": {},
     "output_type": "execute_result"
    }
   ],
   "source": [
    "c1.isdisjoint(c3)"
   ]
  },
  {
   "cell_type": "code",
   "execution_count": 15,
   "id": "d0ec7974",
   "metadata": {},
   "outputs": [
    {
     "data": {
      "text/plain": [
       "True"
      ]
     },
     "execution_count": 15,
     "metadata": {},
     "output_type": "execute_result"
    }
   ],
   "source": [
    "c1 = {1,2,3,4}\n",
    "c2 = {1,2,3}\n",
    "c2.issubset(c1) #si un conjunto es subconjunto de otro #existe issuperset"
   ]
  },
  {
   "cell_type": "code",
   "execution_count": 18,
   "id": "0b485e4a",
   "metadata": {},
   "outputs": [
    {
     "data": {
      "text/plain": [
       "{1, 2, 3, 4, 5, 6, 7, 8, 9}"
      ]
     },
     "execution_count": 18,
     "metadata": {},
     "output_type": "execute_result"
    }
   ],
   "source": [
    "c1 = {1,2,3,4,5}\n",
    "c2 = {9,8,7,6,5}\n",
    "c1.union(c2)"
   ]
  },
  {
   "cell_type": "code",
   "execution_count": 19,
   "id": "1ba5c252",
   "metadata": {},
   "outputs": [
    {
     "data": {
      "text/plain": [
       "{5}"
      ]
     },
     "execution_count": 19,
     "metadata": {},
     "output_type": "execute_result"
    }
   ],
   "source": [
    "c1.intersection(c2) #interseccion entre conjuntos"
   ]
  },
  {
   "cell_type": "code",
   "execution_count": 20,
   "id": "adf1e729",
   "metadata": {},
   "outputs": [],
   "source": [
    "colores = {'amarillo' :'yellow', 'azul': 'blue'}"
   ]
  },
  {
   "cell_type": "code",
   "execution_count": 22,
   "id": "78539474",
   "metadata": {},
   "outputs": [
    {
     "data": {
      "text/plain": [
       "'yellow'"
      ]
     },
     "execution_count": 22,
     "metadata": {},
     "output_type": "execute_result"
    }
   ],
   "source": [
    "colores['amarillo']"
   ]
  },
  {
   "cell_type": "code",
   "execution_count": 23,
   "id": "6815f998",
   "metadata": {},
   "outputs": [
    {
     "data": {
      "text/plain": [
       "'yellow'"
      ]
     },
     "execution_count": 23,
     "metadata": {},
     "output_type": "execute_result"
    }
   ],
   "source": [
    "colores.get('amarillo')"
   ]
  },
  {
   "cell_type": "code",
   "execution_count": 24,
   "id": "6169fca9",
   "metadata": {},
   "outputs": [
    {
     "data": {
      "text/plain": [
       "'No existe jeje'"
      ]
     },
     "execution_count": 24,
     "metadata": {},
     "output_type": "execute_result"
    }
   ],
   "source": [
    "colores.get('rosa','No existe jeje')"
   ]
  },
  {
   "cell_type": "code",
   "execution_count": 25,
   "id": "2591a0e2",
   "metadata": {},
   "outputs": [
    {
     "data": {
      "text/plain": [
       "dict_keys(['amarillo', 'azul'])"
      ]
     },
     "execution_count": 25,
     "metadata": {},
     "output_type": "execute_result"
    }
   ],
   "source": [
    "colores.keys()"
   ]
  },
  {
   "cell_type": "code",
   "execution_count": 26,
   "id": "ff1f947a",
   "metadata": {},
   "outputs": [
    {
     "data": {
      "text/plain": [
       "dict_values(['yellow', 'blue'])"
      ]
     },
     "execution_count": 26,
     "metadata": {},
     "output_type": "execute_result"
    }
   ],
   "source": [
    "colores.values()"
   ]
  },
  {
   "cell_type": "code",
   "execution_count": 27,
   "id": "af86b361",
   "metadata": {},
   "outputs": [
    {
     "data": {
      "text/plain": [
       "dict_items([('amarillo', 'yellow'), ('azul', 'blue')])"
      ]
     },
     "execution_count": 27,
     "metadata": {},
     "output_type": "execute_result"
    }
   ],
   "source": [
    "colores.items()"
   ]
  },
  {
   "cell_type": "code",
   "execution_count": 28,
   "id": "e38cf33b",
   "metadata": {},
   "outputs": [],
   "source": [
    "colores.clear()"
   ]
  },
  {
   "cell_type": "code",
   "execution_count": null,
   "id": "b2d0485d",
   "metadata": {},
   "outputs": [],
   "source": []
  }
 ],
 "metadata": {
  "kernelspec": {
   "display_name": "Python 3 (ipykernel)",
   "language": "python",
   "name": "python3"
  },
  "language_info": {
   "codemirror_mode": {
    "name": "ipython",
    "version": 3
   },
   "file_extension": ".py",
   "mimetype": "text/x-python",
   "name": "python",
   "nbconvert_exporter": "python",
   "pygments_lexer": "ipython3",
   "version": "3.9.7"
  }
 },
 "nbformat": 4,
 "nbformat_minor": 5
}
