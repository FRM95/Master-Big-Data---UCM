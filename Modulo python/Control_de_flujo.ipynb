{
 "cells": [
  {
   "cell_type": "code",
   "execution_count": 16,
   "id": "e0b5cedd",
   "metadata": {},
   "outputs": [],
   "source": [
    "array = [2,1]\n",
    "if(len(array)==0):\n",
    "    array.append(3)\n",
    "    print('Se ha rellenado con un 3')        "
   ]
  },
  {
   "cell_type": "code",
   "execution_count": 2,
   "id": "3576a93a",
   "metadata": {},
   "outputs": [
    {
     "data": {
      "text/plain": [
       "[3]"
      ]
     },
     "execution_count": 2,
     "metadata": {},
     "output_type": "execute_result"
    }
   ],
   "source": [
    "array"
   ]
  },
  {
   "cell_type": "code",
   "execution_count": 18,
   "id": "54c05d96",
   "metadata": {},
   "outputs": [
    {
     "name": "stdout",
     "output_type": "stream",
     "text": [
      "es mayor\n"
     ]
    }
   ],
   "source": [
    "n = 12\n",
    "if n > 2:\n",
    "    print ('es mayor')\n",
    "else:\n",
    "    print('no es mayor')"
   ]
  },
  {
   "cell_type": "code",
   "execution_count": 22,
   "id": "947118bc",
   "metadata": {},
   "outputs": [
    {
     "name": "stdout",
     "output_type": "stream",
     "text": [
      "su valor es 3\n"
     ]
    }
   ],
   "source": [
    "n = 3\n",
    "if n > 4:\n",
    "    print ('es mayor')\n",
    "elif n == 3:\n",
    "    print('su valor es 3')\n",
    "else:\n",
    "    print('no es mayor')"
   ]
  },
  {
   "cell_type": "code",
   "execution_count": 41,
   "id": "4a27101d",
   "metadata": {},
   "outputs": [
    {
     "name": "stdout",
     "output_type": "stream",
     "text": [
      "Introduce el valor de la nota: 6.5\n",
      "Bien\n"
     ]
    }
   ],
   "source": [
    "#cast = obligar a que una variable tenga un valor\n",
    "#input = valor por teclado\n",
    "\n",
    "nota = float(input('Introduce el valor de la nota: '))\n",
    "if(10 >= nota >= 9):\n",
    "    print('Sobresaliente')\n",
    "elif(9>nota>=7):\n",
    "    print('Notable')\n",
    "elif(7>nota>6):\n",
    "    print('Bien')\n",
    "elif(6>nota>=5):\n",
    "    print('Suficiente')\n",
    "elif(nota<5):\n",
    "    print('Insuficiente')\n",
    "else:\n",
    "    print('El valor de la nota \"%d\" es adecuado' %nota)"
   ]
  },
  {
   "cell_type": "code",
   "execution_count": 47,
   "id": "09b8dcd4",
   "metadata": {},
   "outputs": [
    {
     "name": "stdout",
     "output_type": "stream",
     "text": [
      "valor de c: 1\n",
      "valor de c: 2\n",
      "valor de c: 3\n",
      "valor de c: 4\n",
      "valor de c: 5\n",
      "valor de c: 6\n",
      "Abandona el bucle while\n"
     ]
    }
   ],
   "source": [
    "c = 0\n",
    "while c <=5:\n",
    "    c +=1\n",
    "    print('valor de c:',c) #al ser <=5 te imprime hasta c = 6\n",
    "else: \n",
    "    print('Abandona el bucle while')"
   ]
  },
  {
   "cell_type": "code",
   "execution_count": 49,
   "id": "91745984",
   "metadata": {},
   "outputs": [
    {
     "name": "stdout",
     "output_type": "stream",
     "text": [
      "valor de c: 1\n",
      "valor de c: 2\n",
      "valor de c: 3\n",
      "valor de c: 4\n",
      "c ha alcanzado el valor: 4\n",
      "\n",
      "Esto es fuera del programa\n"
     ]
    }
   ],
   "source": [
    "c = 0\n",
    "while c <=5:\n",
    "    c +=1\n",
    "    print('valor de c:',c) #al ser <=5 te imprime hasta c = 6\n",
    "    \n",
    "    if(c == 4):\n",
    "        print('c ha alcanzado el valor:' , c)\n",
    "        break\n",
    "else: \n",
    "    print('Abandona el bucle while')\n",
    "\n",
    "    \n",
    "print('\\nEsto es fuera del programa')"
   ]
  },
  {
   "cell_type": "code",
   "execution_count": 54,
   "id": "116b39a2",
   "metadata": {},
   "outputs": [
    {
     "name": "stdout",
     "output_type": "stream",
     "text": [
      "valor de c: 1\n",
      "valor de c: 3\n",
      "valor de c: 5\n",
      "valor de c: 6\n",
      "Abandona el bucle while\n",
      "\n",
      "Esto es fuera del programa\n"
     ]
    }
   ],
   "source": [
    "c = 0\n",
    "while c <=5:\n",
    "    c +=1\n",
    "    \n",
    "    if(c == 4 or c == 2):\n",
    "        continue #rompe la iteracion de c = 4 y c = 2\n",
    "        \n",
    "    print('valor de c:',c) #al ser <=5 te imprime hasta c = 6\n",
    "    \n",
    "else: \n",
    "    print('Abandona el bucle while')\n",
    "\n",
    "    \n",
    "print('\\nEsto es fuera del programa')"
   ]
  },
  {
   "cell_type": "code",
   "execution_count": 55,
   "id": "0d4baab6",
   "metadata": {},
   "outputs": [
    {
     "name": "stdout",
     "output_type": "stream",
     "text": [
      "\n",
      " MENU \n",
      "============\n",
      "\n",
      "Selecciona una opcion:\n",
      "\n",
      "1: Saludar\n",
      "2: Sumar dos numeros\n",
      "3: Salir\n",
      "1\n",
      "Hola jeje\n",
      "Selecciona una opcion:\n",
      "\n",
      "1: Saludar\n",
      "2: Sumar dos numeros\n",
      "3: Salir\n",
      "3\n",
      "Saliendo del programa..\n"
     ]
    }
   ],
   "source": [
    "print('\\n MENU \\n============\\n')\n",
    "\n",
    "while True:\n",
    "    print('Selecciona una opcion:\\n')\n",
    "    print('1: Saludar')\n",
    "    print('2: Sumar dos numeros')\n",
    "    print('3: Salir')\n",
    "    \n",
    "    user_choice = input() #si no haces cast del input, por defecto detecta todos los inputs como cadenas de caracteres\n",
    "    \n",
    "    if(user_choice == '1'):\n",
    "        print('Hola jeje')\n",
    "    elif(user_choice == '2'):\n",
    "        n1 = float(input('Introduce el 1er numero: '))\n",
    "        n2 = float(input('Introduce el 2do numero: '))\n",
    "        print('La suma de los numeros es:', n1+n2)\n",
    "    elif(user_choice == '3'):\n",
    "        print('Saliendo del programa..')\n",
    "        break\n",
    "    else: \n",
    "        print('\\nEl valor introducido no es valido')"
   ]
  },
  {
   "cell_type": "code",
   "execution_count": 3,
   "id": "a278c264",
   "metadata": {},
   "outputs": [
    {
     "name": "stdout",
     "output_type": "stream",
     "text": [
      "0 1\n",
      "1 2\n",
      "2 3\n",
      "3 4\n",
      "4 5\n",
      "5 6\n",
      "6 7\n"
     ]
    }
   ],
   "source": [
    "numeros = [1,2,3,4,5,6,7]\n",
    "for i, numero in enumerate(numeros): #enumerate extrae el valor y la posicion\n",
    "    print(i,numero)"
   ]
  },
  {
   "cell_type": "code",
   "execution_count": 10,
   "id": "1b7b6cca",
   "metadata": {},
   "outputs": [
    {
     "name": "stdout",
     "output_type": "stream",
     "text": [
      "0 1\n",
      "1 2\n",
      "2 3\n",
      "3 4\n",
      "4 5\n",
      "5 6\n",
      "6 7\n",
      "[1, 2, 9, 4, 5, 6, 7]\n"
     ]
    }
   ],
   "source": [
    "numeros = [1,2,3,4,5,6,7]\n",
    "for i, numero in enumerate(numeros): #enumerate extrae el valor y la posicion\n",
    "    if(i == 2):\n",
    "        numeros[i] = numeros[i] * 3 #se modifica el valor de i = 2 del array numeros multiplicando su valor por 3\n",
    "        # o numeros[i] *= 3\n",
    "    print(i,numero)\n",
    "print(numeros)"
   ]
  },
  {
   "cell_type": "code",
   "execution_count": 11,
   "id": "ee45c94b",
   "metadata": {},
   "outputs": [
    {
     "data": {
      "text/plain": [
       "[1, 2, 9, 4, 5, 6, 7]"
      ]
     },
     "execution_count": 11,
     "metadata": {},
     "output_type": "execute_result"
    }
   ],
   "source": [
    "numeros"
   ]
  },
  {
   "cell_type": "code",
   "execution_count": 12,
   "id": "ad54ae68",
   "metadata": {},
   "outputs": [
    {
     "name": "stdout",
     "output_type": "stream",
     "text": [
      "27\n",
      "28\n",
      "29\n",
      "30\n"
     ]
    }
   ],
   "source": [
    "for numero in range(27,31):\n",
    "    print(numero)"
   ]
  },
  {
   "cell_type": "code",
   "execution_count": null,
   "id": "fda05040",
   "metadata": {},
   "outputs": [],
   "source": []
  }
 ],
 "metadata": {
  "kernelspec": {
   "display_name": "Python 3 (ipykernel)",
   "language": "python",
   "name": "python3"
  },
  "language_info": {
   "codemirror_mode": {
    "name": "ipython",
    "version": 3
   },
   "file_extension": ".py",
   "mimetype": "text/x-python",
   "name": "python",
   "nbconvert_exporter": "python",
   "pygments_lexer": "ipython3",
   "version": "3.9.7"
  }
 },
 "nbformat": 4,
 "nbformat_minor": 5
}
