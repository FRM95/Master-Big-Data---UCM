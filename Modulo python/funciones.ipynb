{
 "cells": [
  {
   "cell_type": "code",
   "execution_count": 16,
   "id": "f837ab14",
   "metadata": {},
   "outputs": [],
   "source": [
    "def tablaDel5():\n",
    "    for x in range(0,11):\n",
    "       print(f'5 * {x} = {5*x}') "
   ]
  },
  {
   "cell_type": "code",
   "execution_count": 17,
   "id": "973de043",
   "metadata": {},
   "outputs": [
    {
     "name": "stdout",
     "output_type": "stream",
     "text": [
      "5 * 0 = 0\n",
      "5 * 1 = 5\n",
      "5 * 2 = 10\n",
      "5 * 3 = 15\n",
      "5 * 4 = 20\n",
      "5 * 5 = 25\n",
      "5 * 6 = 30\n",
      "5 * 7 = 35\n",
      "5 * 8 = 40\n",
      "5 * 9 = 45\n",
      "5 * 10 = 50\n"
     ]
    }
   ],
   "source": [
    "tablaDel5()"
   ]
  },
  {
   "cell_type": "code",
   "execution_count": 20,
   "id": "1019d802",
   "metadata": {},
   "outputs": [],
   "source": [
    "def tablaMultiplicar(x):\n",
    "    for i in range(0,11):\n",
    "        print(f' {x} * {i} = {x*i}')"
   ]
  },
  {
   "cell_type": "code",
   "execution_count": 22,
   "id": "6e0ab8ba",
   "metadata": {},
   "outputs": [
    {
     "name": "stdout",
     "output_type": "stream",
     "text": [
      " 7 * 0 = 0\n",
      " 7 * 1 = 7\n",
      " 7 * 2 = 14\n",
      " 7 * 3 = 21\n",
      " 7 * 4 = 28\n",
      " 7 * 5 = 35\n",
      " 7 * 6 = 42\n",
      " 7 * 7 = 49\n",
      " 7 * 8 = 56\n",
      " 7 * 9 = 63\n",
      " 7 * 10 = 70\n"
     ]
    }
   ],
   "source": [
    "tablaMultiplicar(7)"
   ]
  },
  {
   "cell_type": "code",
   "execution_count": null,
   "id": "8e0fabca",
   "metadata": {},
   "outputs": [],
   "source": [
    "#Los parámetros se refieren a la lista de variables en una declaración de método. \n",
    "#Los argumentos son los valores reales que se pasan cuando se invoca el método."
   ]
  },
  {
   "cell_type": "code",
   "execution_count": 23,
   "id": "e8de3a85",
   "metadata": {},
   "outputs": [],
   "source": [
    "def suma(a,b):\n",
    "    return(a+b)"
   ]
  },
  {
   "cell_type": "code",
   "execution_count": 24,
   "id": "9edd5971",
   "metadata": {},
   "outputs": [
    {
     "data": {
      "text/plain": [
       "5"
      ]
     },
     "execution_count": 24,
     "metadata": {},
     "output_type": "execute_result"
    }
   ],
   "source": [
    "suma(2,3)"
   ]
  },
  {
   "cell_type": "code",
   "execution_count": 25,
   "id": "d29633fb",
   "metadata": {},
   "outputs": [
    {
     "data": {
      "text/plain": [
       "5"
      ]
     },
     "execution_count": 25,
     "metadata": {},
     "output_type": "execute_result"
    }
   ],
   "source": [
    "suma(b = 2, a = 3) #podemos especificar el valor de los argumentos sin seguir el orden de los parametros"
   ]
  },
  {
   "cell_type": "code",
   "execution_count": 26,
   "id": "5ff77c8d",
   "metadata": {},
   "outputs": [],
   "source": [
    "def suma2(a,b=0):#especificamos que b es opcional, siendo su valor por defecto = 0\n",
    "    return(a+b)"
   ]
  },
  {
   "cell_type": "code",
   "execution_count": 27,
   "id": "9028f830",
   "metadata": {},
   "outputs": [
    {
     "data": {
      "text/plain": [
       "3"
      ]
     },
     "execution_count": 27,
     "metadata": {},
     "output_type": "execute_result"
    }
   ],
   "source": [
    "suma2(3)"
   ]
  },
  {
   "cell_type": "code",
   "execution_count": 28,
   "id": "099ec052",
   "metadata": {},
   "outputs": [
    {
     "data": {
      "text/plain": [
       "3"
      ]
     },
     "execution_count": 28,
     "metadata": {},
     "output_type": "execute_result"
    }
   ],
   "source": [
    "suma2(1+2)"
   ]
  },
  {
   "cell_type": "code",
   "execution_count": null,
   "id": "98ec6de6",
   "metadata": {},
   "outputs": [],
   "source": []
  }
 ],
 "metadata": {
  "kernelspec": {
   "display_name": "Python 3 (ipykernel)",
   "language": "python",
   "name": "python3"
  },
  "language_info": {
   "codemirror_mode": {
    "name": "ipython",
    "version": 3
   },
   "file_extension": ".py",
   "mimetype": "text/x-python",
   "name": "python",
   "nbconvert_exporter": "python",
   "pygments_lexer": "ipython3",
   "version": "3.9.7"
  }
 },
 "nbformat": 4,
 "nbformat_minor": 5
}
