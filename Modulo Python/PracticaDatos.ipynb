{
 "cells": [
  {
   "cell_type": "markdown",
   "id": "2d8fa4dd",
   "metadata": {},
   "source": [
    "### INTRODUCCION PYHTON"
   ]
  },
  {
   "cell_type": "code",
   "execution_count": 10,
   "id": "2d0c34f7",
   "metadata": {},
   "outputs": [
    {
     "name": "stdout",
     "output_type": "stream",
     "text": [
      "<class 'float'>\n"
     ]
    },
    {
     "data": {
      "text/plain": [
       "range(0, 7)"
      ]
     },
     "execution_count": 10,
     "metadata": {},
     "output_type": "execute_result"
    }
   ],
   "source": [
    "#Tipos de datos numericos (no se declara el tipo)\n",
    "a = 1; b = 2; c = 3\n",
    "d = 4.0; y = range(7)\n",
    "\n",
    "#Python permite conocer que tipo de dato es\n",
    "tipo = type(a) \n",
    "print(type(d))\n",
    "y"
   ]
  },
  {
   "cell_type": "code",
   "execution_count": 135,
   "id": "bacb829e",
   "metadata": {},
   "outputs": [
    {
     "name": "stdout",
     "output_type": "stream",
     "text": [
      "<class 'float'>\n",
      "7\n",
      "7.5\n"
     ]
    }
   ],
   "source": [
    "#Conversion o cast de tipos\n",
    "x = 7.5\n",
    "print(type(x))\n",
    "\n",
    "x1 = int(x)\n",
    "print(x1)\n",
    "\n",
    "x2 = str(x)\n",
    "print(x2)"
   ]
  },
  {
   "cell_type": "code",
   "execution_count": 136,
   "id": "55623ff3",
   "metadata": {},
   "outputs": [],
   "source": [
    "#Operaciones\n",
    "suma = a+b\n",
    "resta = c-a\n",
    "multiplicacion = b*c\n",
    "division = c/b\n",
    "moduloDivision = c%b"
   ]
  },
  {
   "cell_type": "code",
   "execution_count": 137,
   "id": "c4c2c2a8",
   "metadata": {},
   "outputs": [
    {
     "name": "stdout",
     "output_type": "stream",
     "text": [
      "3\n",
      "2\n",
      "6\n",
      "1.5\n",
      "1\n"
     ]
    }
   ],
   "source": [
    "print(suma)\n",
    "print(resta)\n",
    "print(multiplicacion)\n",
    "print(division)\n",
    "print(moduloDivision)"
   ]
  },
  {
   "cell_type": "markdown",
   "id": "e93272e6",
   "metadata": {},
   "source": [
    "### STRINGS EN PYTHON"
   ]
  },
  {
   "cell_type": "code",
   "execution_count": 16,
   "id": "599968d8",
   "metadata": {},
   "outputs": [],
   "source": [
    "#Tipo STRING\n",
    "e = 'Hola'; f = 'agh154g'"
   ]
  },
  {
   "cell_type": "code",
   "execution_count": 17,
   "id": "beb2bcab",
   "metadata": {},
   "outputs": [
    {
     "name": "stdout",
     "output_type": "stream",
     "text": [
      "agh154g\n",
      "Hello world\n",
      "Hello123\n",
      "World\n",
      "Hola\tMundo\n",
      "Union de strings xd\n",
      "AAAA\n",
      "\n",
      "\n",
      "El valor de a es:  1\n",
      "We are the so-called \"Vikings\" from the north.\n"
     ]
    }
   ],
   "source": [
    "print(f)\n",
    "print('Hello world')\n",
    "print('Hello123\\nWorld')\n",
    "print('Hola\\tMundo')\n",
    "print('Union de strings'+' xd')\n",
    "print('A' * 4)\n",
    "print('\\n')\n",
    "a = 1\n",
    "print('El valor de a es: ', a)\n",
    "txt = \"We are the so-called \\\"Vikings\\\" from the north.\"\n",
    "print(txt)"
   ]
  },
  {
   "cell_type": "code",
   "execution_count": 18,
   "id": "35501021-dbd4-46f3-b5b6-60b16a6cf05e",
   "metadata": {},
   "outputs": [
    {
     "data": {
      "text/plain": [
       "'aloH'"
      ]
     },
     "execution_count": 18,
     "metadata": {},
     "output_type": "execute_result"
    }
   ],
   "source": [
    "#Reversed string\n",
    "e[::-1]"
   ]
  },
  {
   "cell_type": "code",
   "execution_count": 140,
   "id": "0b0f98c1",
   "metadata": {},
   "outputs": [
    {
     "data": {
      "text/plain": [
       "True"
      ]
     },
     "execution_count": 140,
     "metadata": {},
     "output_type": "execute_result"
    }
   ],
   "source": [
    "#comprobar si un caracter se encuentra en un string\n",
    "'a' in e"
   ]
  },
  {
   "cell_type": "code",
   "execution_count": 141,
   "id": "11ac3c08",
   "metadata": {},
   "outputs": [
    {
     "name": "stdout",
     "output_type": "stream",
     "text": [
      "H\n",
      "agh\n",
      "a\n",
      "l\n",
      "o\n",
      "H\n",
      "agh154\n"
     ]
    }
   ],
   "source": [
    "#Extraer posiciones de un string\n",
    "print(e[0])\n",
    "print(f[0:3])\n",
    "print(e[-1]) \n",
    "print(e[-2])\n",
    "print(e[-3])\n",
    "print(e[-4])\n",
    "print(f[:-1]) #todas menos la ultima"
   ]
  },
  {
   "cell_type": "code",
   "execution_count": 142,
   "id": "a2adbde1",
   "metadata": {},
   "outputs": [
    {
     "name": "stdout",
     "output_type": "stream",
     "text": [
      "hola\n"
     ]
    }
   ],
   "source": [
    "#Tipos String son inmutables, no se pueden modificar\n",
    "#Se debe crear un nuevo string con el caracter reemplazado\n",
    "e = 'h' + e[1:] \n",
    "print(e)"
   ]
  },
  {
   "cell_type": "code",
   "execution_count": 143,
   "id": "0b032d4a",
   "metadata": {},
   "outputs": [
    {
     "data": {
      "text/plain": [
       "4"
      ]
     },
     "execution_count": 143,
     "metadata": {},
     "output_type": "execute_result"
    }
   ],
   "source": [
    "#Tamaño del string\n",
    "len(e) "
   ]
  },
  {
   "cell_type": "markdown",
   "id": "1dbd096a",
   "metadata": {},
   "source": [
    "### LISTAS EN PYTHON"
   ]
  },
  {
   "cell_type": "code",
   "execution_count": 1,
   "id": "369f403d",
   "metadata": {},
   "outputs": [],
   "source": [
    "#Tipos LISTAS (Arrays): objetos que pueden almacenar distintos tipos en su interior\n",
    "numeros = [3, -9, 12, 1, -27]\n",
    "caracteres = ['a', 'b', 'c', 'd', 'Hola']\n",
    "lista = ['a',1,['b',2]]\n",
    "emptyList = []"
   ]
  },
  {
   "cell_type": "code",
   "execution_count": 158,
   "id": "eb4a3138",
   "metadata": {},
   "outputs": [
    {
     "name": "stdout",
     "output_type": "stream",
     "text": [
      "[3, -9, 12]\n",
      "['b', 2]\n"
     ]
    }
   ],
   "source": [
    "#extraccion de posiciones \n",
    "print(numeros[0:3])\n",
    "print(lista[2])"
   ]
  },
  {
   "cell_type": "code",
   "execution_count": 159,
   "id": "07ac49c1",
   "metadata": {},
   "outputs": [
    {
     "name": "stdout",
     "output_type": "stream",
     "text": [
      "b\n"
     ]
    },
    {
     "data": {
      "text/plain": [
       "0"
      ]
     },
     "execution_count": 159,
     "metadata": {},
     "output_type": "execute_result"
    }
   ],
   "source": [
    "#Si son mutables\n",
    "lista[0] = 'b'\n",
    "print(lista[0])\n",
    "len(emptyList)"
   ]
  },
  {
   "cell_type": "code",
   "execution_count": 160,
   "id": "6be1d039",
   "metadata": {},
   "outputs": [
    {
     "data": {
      "text/plain": [
       "['a', 'b', 'c', 'd', 'Hola', 3]"
      ]
     },
     "execution_count": 160,
     "metadata": {},
     "output_type": "execute_result"
    }
   ],
   "source": [
    "#añadir elementos al final de la lista\n",
    "caracteres.append(3)\n",
    "caracteres"
   ]
  },
  {
   "cell_type": "code",
   "execution_count": 161,
   "id": "66cebec4",
   "metadata": {},
   "outputs": [
    {
     "data": {
      "text/plain": [
       "['new', 'a', 'b', 'c', 'd', 'Hola', 3]"
      ]
     },
     "execution_count": 161,
     "metadata": {},
     "output_type": "execute_result"
    }
   ],
   "source": [
    "#añadir elemento en la posicion\n",
    "caracteres.insert(0,'new')\n",
    "caracteres"
   ]
  },
  {
   "cell_type": "code",
   "execution_count": 162,
   "id": "01e6fc76",
   "metadata": {},
   "outputs": [
    {
     "data": {
      "text/plain": [
       "['new', 'a', 'b', 'c', 'Hola', 3]"
      ]
     },
     "execution_count": 162,
     "metadata": {},
     "output_type": "execute_result"
    }
   ],
   "source": [
    "#eliminar elementos segun posicion (index)\n",
    "caracteres.pop(4)\n",
    "caracteres"
   ]
  },
  {
   "cell_type": "code",
   "execution_count": 163,
   "id": "8c5fc96e",
   "metadata": {},
   "outputs": [
    {
     "data": {
      "text/plain": [
       "[-9, 12, 1, -27]"
      ]
     },
     "execution_count": 163,
     "metadata": {},
     "output_type": "execute_result"
    }
   ],
   "source": [
    "#podemos utilizar la funcion del\n",
    "del numeros[0]\n",
    "numeros"
   ]
  },
  {
   "cell_type": "code",
   "execution_count": 164,
   "id": "80a6eb9f",
   "metadata": {},
   "outputs": [
    {
     "data": {
      "text/plain": [
       "[12, 1, -27]"
      ]
     },
     "execution_count": 164,
     "metadata": {},
     "output_type": "execute_result"
    }
   ],
   "source": [
    "#eliminar elementos segun valor\n",
    "numeros.remove(-9)\n",
    "numeros"
   ]
  },
  {
   "cell_type": "code",
   "execution_count": 14,
   "id": "76ce7de4-f0a1-40e0-9111-8889c37e1125",
   "metadata": {},
   "outputs": [
    {
     "name": "stdout",
     "output_type": "stream",
     "text": [
      "el 12 es el maximo de la lista\n",
      "el -27 es el minimo de la lista\n"
     ]
    }
   ],
   "source": [
    "print('el {} es el maximo de la lista'.format(max(numeros)))\n",
    "print('el {} es el minimo de la lista'.format(min(numeros)))"
   ]
  },
  {
   "cell_type": "code",
   "execution_count": 165,
   "id": "f66cca29",
   "metadata": {},
   "outputs": [
    {
     "data": {
      "text/plain": [
       "1"
      ]
     },
     "execution_count": 165,
     "metadata": {},
     "output_type": "execute_result"
    }
   ],
   "source": [
    "#conteo de elementos dado el valor\n",
    "caracteres.count('a')"
   ]
  },
  {
   "cell_type": "code",
   "execution_count": 1,
   "id": "f1bcd5fe",
   "metadata": {},
   "outputs": [
    {
     "name": "stdout",
     "output_type": "stream",
     "text": [
      "['banana', 'kiwi', 'mango', 'orange', 'pineapple']\n",
      "[23, 50, 65, 82, 100]\n"
     ]
    }
   ],
   "source": [
    "#Ordenar listas\n",
    "thislist = [\"orange\", \"mango\", \"kiwi\", \"pineapple\", \"banana\"]\n",
    "thislist.sort()\n",
    "print(thislist)\n",
    "\n",
    "thislist1 = [100, 50, 65, 82, 23]\n",
    "thislist1.sort()\n",
    "print(thislist1)"
   ]
  },
  {
   "cell_type": "code",
   "execution_count": 9,
   "id": "f0d7be19",
   "metadata": {},
   "outputs": [
    {
     "name": "stdout",
     "output_type": "stream",
     "text": [
      "[2, 'z', 10, 9, 4, 'aabb', '2', '1']\n"
     ]
    }
   ],
   "source": [
    "#Revertir orden de las listas\n",
    "lista1 = ['1','2','aabb',4,9,10,'z',2]\n",
    "lista1.reverse()\n",
    "print(lista1)"
   ]
  },
  {
   "cell_type": "code",
   "execution_count": 5,
   "id": "fa21204f-018e-4009-8a48-0fdf74adae80",
   "metadata": {},
   "outputs": [
    {
     "name": "stdin",
     "output_type": "stream",
     "text": [
      "Introduce un entero x:  3\n",
      "Introduce un entero y:  4\n",
      "Introduce un entero z:  2\n",
      "Introduce un entero n:  6\n"
     ]
    },
    {
     "name": "stdout",
     "output_type": "stream",
     "text": [
      "[[0, 0, 0], [0, 0, 1], [0, 0, 2], [0, 1, 0], [0, 1, 1], [0, 1, 2], [0, 2, 0], [0, 2, 1], [0, 2, 2], [0, 3, 0], [0, 3, 1], [0, 3, 2], [0, 4, 0], [0, 4, 1], [1, 0, 0], [1, 0, 1], [1, 0, 2], [1, 1, 0], [1, 1, 1], [1, 1, 2], [1, 2, 0], [1, 2, 1], [1, 2, 2], [1, 3, 0], [1, 3, 1], [1, 4, 0], [1, 4, 2], [2, 0, 0], [2, 0, 1], [2, 0, 2], [2, 1, 0], [2, 1, 1], [2, 1, 2], [2, 2, 0], [2, 2, 1], [2, 3, 0], [2, 3, 2], [2, 4, 1], [2, 4, 2], [3, 0, 0], [3, 0, 1], [3, 0, 2], [3, 1, 0], [3, 1, 1], [3, 2, 0], [3, 2, 2], [3, 3, 1], [3, 3, 2], [3, 4, 0], [3, 4, 1], [3, 4, 2]]\n"
     ]
    }
   ],
   "source": [
    "#List comprehension\n",
    "#creacion de lista de listas de x,y,z siempre que la suma de x,y,z sea distinto que n\n",
    "x = int(input('Introduce un entero x: '))\n",
    "y = int(input('Introduce un entero y: '))\n",
    "z = int(input('Introduce un entero z: '))\n",
    "n = int(input('Introduce un entero n: '))\n",
    "\n",
    "print([[i,j,k] for i in range(x+1) for j in range(y+1) for k in range(z+1) if i+j+k!=n])"
   ]
  },
  {
   "cell_type": "code",
   "execution_count": 2,
   "id": "c66e7786-157e-4316-aac3-9c431f3ef645",
   "metadata": {},
   "outputs": [
    {
     "name": "stdout",
     "output_type": "stream",
     "text": [
      "[4, 10, 20, 46, 100, 66]\n"
     ]
    }
   ],
   "source": [
    "#Distintas maneras para aplicar una funcion en una lista\n",
    "\n",
    "#definimos una funcion\n",
    "def doblar(numero):\n",
    "    return numero*2\n",
    "\n",
    "numeros = [2, 5, 10, 23, 50, 33]\n",
    "\n",
    "#la funcion map aplica una funcion a todos los elementos de una lista\n",
    "#debe indicarse como map(<funcion>,<elementoIterable>)\n",
    "print(list(map(doblar, numeros)))"
   ]
  },
  {
   "cell_type": "code",
   "execution_count": 53,
   "id": "2798a6db-c128-408a-ab9c-836818306b97",
   "metadata": {},
   "outputs": [
    {
     "data": {
      "text/plain": [
       "5"
      ]
     },
     "execution_count": 53,
     "metadata": {},
     "output_type": "execute_result"
    }
   ],
   "source": [
    "#una funcion lambda permite definir una funcion de orden superior de manera mas concisa\n",
    "#lambda <parametros>: <cuerpo de la funcion/resultado a devolver> [condiciones]\n",
    "\n",
    "#esta funcion suma 1 al parametro si x es != 0 \n",
    "miFuncion = lambda x: x+1 if (x!=0) else x\n",
    "miFuncion(4)"
   ]
  },
  {
   "cell_type": "code",
   "execution_count": 44,
   "id": "98b2b363-d76f-4960-89be-e081111b11a3",
   "metadata": {},
   "outputs": [
    {
     "data": {
      "text/plain": [
       "[6, -18, 24, 2, -54]"
      ]
     },
     "execution_count": 44,
     "metadata": {},
     "output_type": "execute_result"
    }
   ],
   "source": [
    "#Aplicando la funcion map sobre la funcion lambda para un elemento x\n",
    "numerosdoblados = list(map(lambda x: x*2,numeros))\n",
    "numerosdoblados"
   ]
  },
  {
   "cell_type": "code",
   "execution_count": 45,
   "id": "58f26446-fed6-4121-8a10-bdc808104faa",
   "metadata": {},
   "outputs": [
    {
     "data": {
      "text/plain": [
       "[6, -18, 24, 2, -54]"
      ]
     },
     "execution_count": 45,
     "metadata": {},
     "output_type": "execute_result"
    }
   ],
   "source": [
    "#Aplicando la funcion lambda para cada elemento de la lista mediante un bucle for de list comprehension\n",
    "lambda_func = lambda x: x*2\n",
    "[lambda_func(x) for x in numeros]"
   ]
  },
  {
   "cell_type": "code",
   "execution_count": 10,
   "id": "2c17044f-031d-4841-badb-321bd2f71cbc",
   "metadata": {},
   "outputs": [],
   "source": [
    "numerosaleatorios = [1,2,8,9,6,24,56,77,90]"
   ]
  },
  {
   "cell_type": "code",
   "execution_count": 11,
   "id": "e25223c6-df9d-4f10-a6c4-417d6ee5aaf8",
   "metadata": {},
   "outputs": [],
   "source": [
    "#usando list comprehension para extraer elementos divisibles entre 2\n",
    "numerospares = [a for a in numerosaleatorios if a%2==0]"
   ]
  },
  {
   "cell_type": "code",
   "execution_count": 12,
   "id": "9f276666-bdc3-4bd3-9f61-e39d16e82dc5",
   "metadata": {},
   "outputs": [
    {
     "data": {
      "text/plain": [
       "[2, 8, 6, 24, 56, 90]"
      ]
     },
     "execution_count": 12,
     "metadata": {},
     "output_type": "execute_result"
    }
   ],
   "source": [
    "numerospares"
   ]
  },
  {
   "cell_type": "code",
   "execution_count": 42,
   "id": "075ae386-453a-4241-a463-1de5a3d79760",
   "metadata": {},
   "outputs": [
    {
     "data": {
      "text/plain": [
       "[(0, 3), (1, -9), (2, 12), (3, 1), (4, -27)]"
      ]
     },
     "execution_count": 42,
     "metadata": {},
     "output_type": "execute_result"
    }
   ],
   "source": [
    "#volvemos a usar enumerate para conocer la posicion de los valores\n",
    "list(enumerate(numeros))"
   ]
  },
  {
   "cell_type": "code",
   "execution_count": 22,
   "id": "d2d47426-39fa-4665-abcb-a364994e3afe",
   "metadata": {},
   "outputs": [
    {
     "name": "stdout",
     "output_type": "stream",
     "text": [
      "[4, 8, 10, 12]\n",
      "[4, 8, 10, 12]\n"
     ]
    }
   ],
   "source": [
    "num = [2,4,5,6]\n",
    "res = []\n",
    "for i in num:\n",
    "    i = i*2\n",
    "    res.append(i)\n",
    "print(res)\n",
    "\n",
    "resultado = [a*2 for a in num]\n",
    "\n",
    "print(resultado)"
   ]
  },
  {
   "cell_type": "code",
   "execution_count": 28,
   "id": "aae27c6a-207f-4d72-8aee-b21ed8633b40",
   "metadata": {},
   "outputs": [],
   "source": [
    "cuenta = list(map(lambda x: (x,numeros.count(x)), numeros))"
   ]
  },
  {
   "cell_type": "code",
   "execution_count": 29,
   "id": "eb217c89-896f-40a1-a6e7-342c935a9b82",
   "metadata": {},
   "outputs": [
    {
     "data": {
      "text/plain": [
       "[(3, 1), (-9, 1), (12, 1), (1, 1), (-27, 1)]"
      ]
     },
     "execution_count": 29,
     "metadata": {},
     "output_type": "execute_result"
    }
   ],
   "source": [
    "cuenta"
   ]
  },
  {
   "cell_type": "markdown",
   "id": "df4295ab",
   "metadata": {},
   "source": [
    "### TUPLAS EN PYHTON"
   ]
  },
  {
   "cell_type": "code",
   "execution_count": null,
   "id": "ca73f458",
   "metadata": {},
   "outputs": [],
   "source": [
    "#Una tupla es similar a un vector ordenado, permite valores duplicados y es inmutable"
   ]
  },
  {
   "cell_type": "code",
   "execution_count": 16,
   "id": "73f216c0",
   "metadata": {},
   "outputs": [
    {
     "name": "stdout",
     "output_type": "stream",
     "text": [
      "7\n"
     ]
    }
   ],
   "source": [
    "tupla = ('a','b',1,2,True,False,'a')\n",
    "print(len(tupla))"
   ]
  },
  {
   "cell_type": "code",
   "execution_count": 17,
   "id": "08b35ba5",
   "metadata": {},
   "outputs": [
    {
     "data": {
      "text/plain": [
       "'a'"
      ]
     },
     "execution_count": 17,
     "metadata": {},
     "output_type": "execute_result"
    }
   ],
   "source": [
    "tupla[0]"
   ]
  },
  {
   "cell_type": "code",
   "execution_count": 18,
   "id": "81a4e16b",
   "metadata": {},
   "outputs": [
    {
     "name": "stdout",
     "output_type": "stream",
     "text": [
      "('orange', 'kiwi', 'melon')\n"
     ]
    }
   ],
   "source": [
    "thistuple = (\"apple\", \"banana\", \"cherry\", \"orange\", \"kiwi\", \"melon\", \"mango\")\n",
    "print(thistuple[-4:-1])"
   ]
  },
  {
   "cell_type": "code",
   "execution_count": null,
   "id": "c9190c56",
   "metadata": {},
   "outputs": [],
   "source": [
    "#Para modificar una tupla hacemos un cast previo a lista y luego a tupla"
   ]
  },
  {
   "cell_type": "markdown",
   "id": "15b22d3e",
   "metadata": {},
   "source": [
    "### SETS EN PYTHON"
   ]
  },
  {
   "cell_type": "code",
   "execution_count": 21,
   "id": "f0c8dee3",
   "metadata": {},
   "outputs": [],
   "source": [
    "#una coleccion es desordenada, inmutable, no indexada y no acepta duplicados "
   ]
  },
  {
   "cell_type": "code",
   "execution_count": 66,
   "id": "a7e27f63",
   "metadata": {},
   "outputs": [],
   "source": [
    "coleccion = {1,2,3,4,5,6}\n",
    "colec = {'a','b',1,2,3}"
   ]
  },
  {
   "cell_type": "code",
   "execution_count": 30,
   "id": "7cbcc05b",
   "metadata": {},
   "outputs": [
    {
     "name": "stdout",
     "output_type": "stream",
     "text": [
      "6\n",
      "5\n"
     ]
    }
   ],
   "source": [
    "print(len(coleccion))\n",
    "print(len(colec))"
   ]
  },
  {
   "cell_type": "code",
   "execution_count": 36,
   "id": "2ac5e86b",
   "metadata": {},
   "outputs": [
    {
     "data": {
      "text/plain": [
       "{1, 2, 3, 4, 'a', 'b', 'pi'}"
      ]
     },
     "execution_count": 36,
     "metadata": {},
     "output_type": "execute_result"
    }
   ],
   "source": [
    "#Añade elemento a la coleccion\n",
    "colec.add(4)\n",
    "colec.add('pi')\n",
    "colec"
   ]
  },
  {
   "cell_type": "code",
   "execution_count": 37,
   "id": "409e06bb",
   "metadata": {},
   "outputs": [
    {
     "data": {
      "text/plain": [
       "{1, 2, 3, 4, 5}"
      ]
     },
     "execution_count": 37,
     "metadata": {},
     "output_type": "execute_result"
    }
   ],
   "source": [
    "#Eliminar un valor concreto\n",
    "coleccion.remove(6)\n",
    "coleccion"
   ]
  },
  {
   "cell_type": "code",
   "execution_count": 38,
   "id": "bdd2ff3a",
   "metadata": {},
   "outputs": [
    {
     "data": {
      "text/plain": [
       "{2, 3, 4, 5}"
      ]
     },
     "execution_count": 38,
     "metadata": {},
     "output_type": "execute_result"
    }
   ],
   "source": [
    "#Elimina el elemento ultimo (una lista es no ordenada, no se puede saber que elemento elimina)\n",
    "coleccion.pop()\n",
    "coleccion"
   ]
  },
  {
   "cell_type": "code",
   "execution_count": 39,
   "id": "6d994a65",
   "metadata": {},
   "outputs": [
    {
     "data": {
      "text/plain": [
       "{1, 2, 3, 4, 'a', 'b', 'pi'}"
      ]
     },
     "execution_count": 39,
     "metadata": {},
     "output_type": "execute_result"
    }
   ],
   "source": [
    "#Union de colecciones\n",
    "set1 = colec.union(colec)\n",
    "set1"
   ]
  },
  {
   "cell_type": "markdown",
   "id": "449fcb6d",
   "metadata": {},
   "source": [
    "### DICCIONARIOS EN PYHTON"
   ]
  },
  {
   "cell_type": "code",
   "execution_count": null,
   "id": "c98bf36e",
   "metadata": {},
   "outputs": [],
   "source": [
    "#Diccionarios almacenan pares {clave:valor}, ordenada, mutable y no acepta duplicados"
   ]
  },
  {
   "cell_type": "code",
   "execution_count": 72,
   "id": "66632ef5",
   "metadata": {},
   "outputs": [],
   "source": [
    "dicc = {\n",
    "  \"brand\": \"Ford\",\n",
    "  \"model\": \"Mustang\",\n",
    "  \"year\": 1964\n",
    "}"
   ]
  },
  {
   "cell_type": "code",
   "execution_count": 73,
   "id": "f9cb9c51",
   "metadata": {},
   "outputs": [
    {
     "name": "stdout",
     "output_type": "stream",
     "text": [
      "Ford\n",
      "Ford\n"
     ]
    }
   ],
   "source": [
    "#Obtener valor segun clave\n",
    "print(dicc['brand'])\n",
    "print(dicc.get('brand'))"
   ]
  },
  {
   "cell_type": "code",
   "execution_count": 74,
   "id": "3cffa478",
   "metadata": {},
   "outputs": [
    {
     "name": "stdout",
     "output_type": "stream",
     "text": [
      "dict_keys(['brand', 'model', 'year'])\n",
      "dict_values(['Ford', 'Mustang', 1964])\n",
      "dict_items([('brand', 'Ford'), ('model', 'Mustang'), ('year', 1964)])\n"
     ]
    }
   ],
   "source": [
    "#Obtener todas las claves\n",
    "print(dicc.keys())\n",
    "#Obtener todos los valores\n",
    "print(dicc.values())\n",
    "#Obtener todos los pares clave valor\n",
    "print(dicc.items())"
   ]
  },
  {
   "cell_type": "code",
   "execution_count": 75,
   "id": "9fb63882",
   "metadata": {},
   "outputs": [
    {
     "data": {
      "text/plain": [
       "{'brand': 'Opel', 'model': 'Mustang', 'year': 1964}"
      ]
     },
     "execution_count": 75,
     "metadata": {},
     "output_type": "execute_result"
    }
   ],
   "source": [
    "#Cambio de par Clave-Valor\n",
    "dicc['brand'] = 'Opel'\n",
    "dicc"
   ]
  },
  {
   "cell_type": "code",
   "execution_count": 76,
   "id": "192bf617",
   "metadata": {},
   "outputs": [
    {
     "data": {
      "text/plain": [
       "{'brand': 'Opel', 'model': 'Mustang', 'year': 2022, 'mph': 120}"
      ]
     },
     "execution_count": 76,
     "metadata": {},
     "output_type": "execute_result"
    }
   ],
   "source": [
    "#Update modifica, añade nueva clave-valor\n",
    "dicc.update({'year': 2022})\n",
    "dicc.update({'mph': 120})\n",
    "dicc"
   ]
  },
  {
   "cell_type": "code",
   "execution_count": 77,
   "id": "75751a89",
   "metadata": {},
   "outputs": [
    {
     "data": {
      "text/plain": [
       "{'brand': 'Opel', 'model': 'Mustang', 'year': 2022}"
      ]
     },
     "execution_count": 77,
     "metadata": {},
     "output_type": "execute_result"
    }
   ],
   "source": [
    "#Eliminar claves-valor\n",
    "del dicc ['mph']\n",
    "dicc"
   ]
  },
  {
   "cell_type": "code",
   "execution_count": 78,
   "id": "f860f1b7",
   "metadata": {},
   "outputs": [
    {
     "data": {
      "text/plain": [
       "{'brand': 'Opel', 'year': 2022}"
      ]
     },
     "execution_count": 78,
     "metadata": {},
     "output_type": "execute_result"
    }
   ],
   "source": [
    "dicc.pop('model') #o pop.item() que elimina el ultimo en 3.7\n",
    "dicc"
   ]
  },
  {
   "cell_type": "markdown",
   "id": "2a3ab306",
   "metadata": {},
   "source": [
    "### TIPO ENUMERATE"
   ]
  },
  {
   "cell_type": "code",
   "execution_count": null,
   "id": "b84db1bd",
   "metadata": {},
   "outputs": [],
   "source": [
    "#Permite obtener un listado del indice y el valor sobre objetos iterables\n",
    "#Se debe hacer luego un cast del tipo enumerate a tipo lista para visualizarlo"
   ]
  },
  {
   "cell_type": "code",
   "execution_count": 82,
   "id": "2232f66d",
   "metadata": {},
   "outputs": [],
   "source": [
    "diccionarioEnumerada = list(enumerate(dicc))\n",
    "lista = ['Miwe',1,True,'0']"
   ]
  },
  {
   "cell_type": "code",
   "execution_count": 87,
   "id": "5b47aeeb",
   "metadata": {},
   "outputs": [
    {
     "name": "stdout",
     "output_type": "stream",
     "text": [
      "[(0, 'brand'), (1, 'year')]\n"
     ]
    },
    {
     "data": {
      "text/plain": [
       "[(0, 'Miwe'), (1, 1), (2, True), (3, '0')]"
      ]
     },
     "execution_count": 87,
     "metadata": {},
     "output_type": "execute_result"
    }
   ],
   "source": [
    "print(diccionarioEnumerada)\n",
    "listaEnumerada = list(enumerate(lista))\n",
    "listaEnumerada"
   ]
  },
  {
   "cell_type": "code",
   "execution_count": 92,
   "id": "675ae309",
   "metadata": {},
   "outputs": [
    {
     "name": "stdout",
     "output_type": "stream",
     "text": [
      "((0, 'Miwe'), (1, 1), (2, True), (3, '0'))\n",
      "{0: 'Miwe', 1: 1, 2: True, 3: '0'}\n"
     ]
    }
   ],
   "source": [
    "x = tuple(listaEnumerada)\n",
    "y = dict(listaEnumerada)\n",
    "print(x)\n",
    "print(y)"
   ]
  }
 ],
 "metadata": {
  "kernelspec": {
   "display_name": "Python 3 (ipykernel)",
   "language": "python",
   "name": "python3"
  },
  "language_info": {
   "codemirror_mode": {
    "name": "ipython",
    "version": 3
   },
   "file_extension": ".py",
   "mimetype": "text/x-python",
   "name": "python",
   "nbconvert_exporter": "python",
   "pygments_lexer": "ipython3",
   "version": "3.9.7"
  }
 },
 "nbformat": 4,
 "nbformat_minor": 5
}
