{
 "cells": [
  {
   "cell_type": "code",
   "execution_count": null,
   "id": "4377c15e-fccb-4887-b938-29022eaf1d71",
   "metadata": {},
   "outputs": [],
   "source": [
    "#Definition:\n",
    "\n",
    "#This notebook tries to implement a simple calculator program\n",
    "#Updates and improvements will be added through further version\n",
    "#version = 1.0"
   ]
  },
  {
   "cell_type": "code",
   "execution_count": 3,
   "id": "769e72aa-9a85-4d81-86ff-e7908eb2ef8c",
   "metadata": {},
   "outputs": [],
   "source": [
    "import math \n",
    "import time"
   ]
  },
  {
   "cell_type": "code",
   "execution_count": null,
   "id": "0925df56-89b5-4f95-b559-fb43e136af71",
   "metadata": {},
   "outputs": [],
   "source": [
    "functions = [\"Make a new operation\",\"Check instructions\",\"Check operation history\",\"Exit\"]\n",
    "opDone = list()\n",
    "resList = list()"
   ]
  },
  {
   "cell_type": "code",
   "execution_count": null,
   "id": "4cd3143e-c3ea-4cb8-b9fc-4b62223e3e8b",
   "metadata": {},
   "outputs": [],
   "source": [
    "print(\"Welcome to simple Calculator v1\\n\")\n",
    "time.sleep(2)\n",
    "\n",
    "print(\"What do you want to do?\\n\")\n",
    "a = 1\n",
    "for x in (functions):\n",
    "    print('· Select {} to: {}'.format(a,x))\n",
    "    a+=1\n",
    "    \n",
    "while True:\n",
    "    op = int(input(\"\\nSelect what to do\\n\"))\n",
    "    \n",
    "    if op == 1:\n",
    "        a = input(\"\\nOperation to make\")\n",
    "        res = eval(a)\n",
    "        opDone.append(str(a))\n",
    "        resList.append(res)\n",
    "        print(\"Result:\",res)\n",
    "    \n",
    "    if op == 2:\n",
    "        print(\"Instructions\")\n",
    "    \n",
    "    if op == 3:\n",
    "        print(\"Your recent operations where\")\n",
    "        for x in list(reversed(opDone)):\n",
    "            for y in list(reversed(resList)):\n",
    "                print(\"{} = {}\".format(x,y))\n",
    "        \n",
    "    if op == 4:\n",
    "        print(\"Exiting\")\n",
    "        break\n",
    "            \n",
    "    if op not in (1,2,3,4):\n",
    "        print(\"\\nNumber is not between 1 and 4, try again\")"
   ]
  },
  {
   "cell_type": "code",
   "execution_count": null,
   "id": "08cb2de5-87bc-4428-a260-cc2d0dd99f19",
   "metadata": {},
   "outputs": [],
   "source": []
  }
 ],
 "metadata": {
  "kernelspec": {
   "display_name": "Python 3 (ipykernel)",
   "language": "python",
   "name": "python3"
  },
  "language_info": {
   "codemirror_mode": {
    "name": "ipython",
    "version": 3
   },
   "file_extension": ".py",
   "mimetype": "text/x-python",
   "name": "python",
   "nbconvert_exporter": "python",
   "pygments_lexer": "ipython3",
   "version": "3.9.7"
  }
 },
 "nbformat": 4,
 "nbformat_minor": 5
}
